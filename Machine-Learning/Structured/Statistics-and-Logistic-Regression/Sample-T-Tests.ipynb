{
 "cells": [
  {
   "cell_type": "code",
   "execution_count": 1,
   "metadata": {},
   "outputs": [],
   "source": [
    "from scipy.stats import ttest_1samp\n",
    "import numpy as np"
   ]
  },
  {
   "cell_type": "markdown",
   "metadata": {},
   "source": [
    "## One Sample T Test"
   ]
  },
  {
   "cell_type": "code",
   "execution_count": 2,
   "metadata": {},
   "outputs": [
    {
     "name": "stdout",
     "output_type": "stream",
     "text": [
      "-1.4031208963556832\n",
      "0.18401189713639968\n"
     ]
    }
   ],
   "source": [
    "age=[30,40,35,56,70,34,56,78,90,78,34,34,45,56]\n",
    "tstat,pval=ttest_1samp(age,60)\n",
    "print(tstat)\n",
    "print(pval)"
   ]
  },
  {
   "cell_type": "markdown",
   "metadata": {},
   "source": [
    "## Two sample T test"
   ]
  },
  {
   "cell_type": "code",
   "execution_count": 3,
   "metadata": {},
   "outputs": [],
   "source": [
    "from scipy.stats import ttest_ind\n",
    "import numpy as np"
   ]
  },
  {
   "cell_type": "code",
   "execution_count": 4,
   "metadata": {},
   "outputs": [
    {
     "name": "stdout",
     "output_type": "stream",
     "text": [
      "-0.47929967252958106 0.6360640311214152\n"
     ]
    }
   ],
   "source": [
    "age1=[30,40,35,56,70,34,56,78,90,78,34,34,45,56]\n",
    "age2=[30,34,45,67,78,90,45,67,80,76,32,34]\n",
    "tstat,pval=ttest_ind(age1,age2)\n",
    "print(tstat,pval)"
   ]
  },
  {
   "cell_type": "code",
   "execution_count": 5,
   "metadata": {},
   "outputs": [],
   "source": [
    "import pandas as pd\n"
   ]
  },
  {
   "cell_type": "code",
   "execution_count": 22,
   "metadata": {},
   "outputs": [
    {
     "data": {
      "text/html": [
       "<div>\n",
       "<style scoped>\n",
       "    .dataframe tbody tr th:only-of-type {\n",
       "        vertical-align: middle;\n",
       "    }\n",
       "\n",
       "    .dataframe tbody tr th {\n",
       "        vertical-align: top;\n",
       "    }\n",
       "\n",
       "    .dataframe thead th {\n",
       "        text-align: right;\n",
       "    }\n",
       "</style>\n",
       "<table border=\"1\" class=\"dataframe\">\n",
       "  <thead>\n",
       "    <tr style=\"text-align: right;\">\n",
       "      <th></th>\n",
       "      <th>Pre1</th>\n",
       "      <th>Post1</th>\n",
       "      <th>Pre2</th>\n",
       "      <th>Post2</th>\n",
       "      <th>Pre3</th>\n",
       "      <th>Post3</th>\n",
       "      <th>Pre4</th>\n",
       "      <th>Post4</th>\n",
       "      <th>Pre5</th>\n",
       "      <th>Post5</th>\n",
       "      <th>...</th>\n",
       "      <th>Pre7</th>\n",
       "      <th>Post7</th>\n",
       "      <th>Pre8</th>\n",
       "      <th>Post8</th>\n",
       "      <th>Pre9</th>\n",
       "      <th>Post9</th>\n",
       "      <th>Pre10</th>\n",
       "      <th>Post10</th>\n",
       "      <th>Unnamed: 20</th>\n",
       "      <th>Unnamed: 21</th>\n",
       "    </tr>\n",
       "  </thead>\n",
       "  <tbody>\n",
       "    <tr>\n",
       "      <th>0</th>\n",
       "      <td>4.0</td>\n",
       "      <td>4.0</td>\n",
       "      <td>3.0</td>\n",
       "      <td>8.0</td>\n",
       "      <td>9</td>\n",
       "      <td>8.0</td>\n",
       "      <td>6.0</td>\n",
       "      <td>6.0</td>\n",
       "      <td>7.0</td>\n",
       "      <td>7.0</td>\n",
       "      <td>...</td>\n",
       "      <td>8.0</td>\n",
       "      <td>8.0</td>\n",
       "      <td>8.0</td>\n",
       "      <td>8.0</td>\n",
       "      <td>9.0</td>\n",
       "      <td>8.0</td>\n",
       "      <td>6.0</td>\n",
       "      <td>6.0</td>\n",
       "      <td>NaN</td>\n",
       "      <td>5.0</td>\n",
       "    </tr>\n",
       "    <tr>\n",
       "      <th>1</th>\n",
       "      <td>9.0</td>\n",
       "      <td>8.0</td>\n",
       "      <td>8.0</td>\n",
       "      <td>8.0</td>\n",
       "      <td>10</td>\n",
       "      <td>9.0</td>\n",
       "      <td>9.0</td>\n",
       "      <td>8.0</td>\n",
       "      <td>8.0</td>\n",
       "      <td>8.0</td>\n",
       "      <td>...</td>\n",
       "      <td>9.0</td>\n",
       "      <td>10.0</td>\n",
       "      <td>10.0</td>\n",
       "      <td>9.0</td>\n",
       "      <td>8.0</td>\n",
       "      <td>8.0</td>\n",
       "      <td>8.0</td>\n",
       "      <td>8.0</td>\n",
       "      <td>NaN</td>\n",
       "      <td>5.0</td>\n",
       "    </tr>\n",
       "    <tr>\n",
       "      <th>2</th>\n",
       "      <td>6.0</td>\n",
       "      <td>8.0</td>\n",
       "      <td>7.0</td>\n",
       "      <td>10.0</td>\n",
       "      <td>10</td>\n",
       "      <td>10.0</td>\n",
       "      <td>6.0</td>\n",
       "      <td>6.0</td>\n",
       "      <td>9.0</td>\n",
       "      <td>8.0</td>\n",
       "      <td>...</td>\n",
       "      <td>10.0</td>\n",
       "      <td>10.0</td>\n",
       "      <td>10.0</td>\n",
       "      <td>8.0</td>\n",
       "      <td>10.0</td>\n",
       "      <td>10.0</td>\n",
       "      <td>10.0</td>\n",
       "      <td>10.0</td>\n",
       "      <td>NaN</td>\n",
       "      <td>5.0</td>\n",
       "    </tr>\n",
       "    <tr>\n",
       "      <th>3</th>\n",
       "      <td>4.0</td>\n",
       "      <td>10.0</td>\n",
       "      <td>0.0</td>\n",
       "      <td>0.0</td>\n",
       "      <td>10</td>\n",
       "      <td>10.0</td>\n",
       "      <td>10.0</td>\n",
       "      <td>10.0</td>\n",
       "      <td>4.0</td>\n",
       "      <td>10.0</td>\n",
       "      <td>...</td>\n",
       "      <td>8.0</td>\n",
       "      <td>10.0</td>\n",
       "      <td>10.0</td>\n",
       "      <td>10.0</td>\n",
       "      <td>10.0</td>\n",
       "      <td>10.0</td>\n",
       "      <td>8.0</td>\n",
       "      <td>10.0</td>\n",
       "      <td>NaN</td>\n",
       "      <td>5.0</td>\n",
       "    </tr>\n",
       "    <tr>\n",
       "      <th>4</th>\n",
       "      <td>10.0</td>\n",
       "      <td>10.0</td>\n",
       "      <td>0.0</td>\n",
       "      <td>8.0</td>\n",
       "      <td>0</td>\n",
       "      <td>0.0</td>\n",
       "      <td>10.0</td>\n",
       "      <td>10.0</td>\n",
       "      <td>10.0</td>\n",
       "      <td>10.0</td>\n",
       "      <td>...</td>\n",
       "      <td>10.0</td>\n",
       "      <td>10.0</td>\n",
       "      <td>10.0</td>\n",
       "      <td>10.0</td>\n",
       "      <td>10.0</td>\n",
       "      <td>10.0</td>\n",
       "      <td>0.0</td>\n",
       "      <td>0.0</td>\n",
       "      <td>NaN</td>\n",
       "      <td>5.0</td>\n",
       "    </tr>\n",
       "  </tbody>\n",
       "</table>\n",
       "<p>5 rows × 22 columns</p>\n",
       "</div>"
      ],
      "text/plain": [
       "   Pre1  Post1  Pre2  Post2 Pre3  Post3  Pre4  Post4  Pre5  Post5  ...  Pre7  \\\n",
       "0   4.0    4.0   3.0    8.0    9    8.0   6.0    6.0   7.0    7.0  ...   8.0   \n",
       "1   9.0    8.0   8.0    8.0   10    9.0   9.0    8.0   8.0    8.0  ...   9.0   \n",
       "2   6.0    8.0   7.0   10.0   10   10.0   6.0    6.0   9.0    8.0  ...  10.0   \n",
       "3   4.0   10.0   0.0    0.0   10   10.0  10.0   10.0   4.0   10.0  ...   8.0   \n",
       "4  10.0   10.0   0.0    8.0    0    0.0  10.0   10.0  10.0   10.0  ...  10.0   \n",
       "\n",
       "   Post7  Pre8  Post8  Pre9  Post9  Pre10  Post10  Unnamed: 20  Unnamed: 21  \n",
       "0    8.0   8.0    8.0   9.0    8.0    6.0     6.0          NaN          5.0  \n",
       "1   10.0  10.0    9.0   8.0    8.0    8.0     8.0          NaN          5.0  \n",
       "2   10.0  10.0    8.0  10.0   10.0   10.0    10.0          NaN          5.0  \n",
       "3   10.0  10.0   10.0  10.0   10.0    8.0    10.0          NaN          5.0  \n",
       "4   10.0  10.0   10.0  10.0   10.0    0.0     0.0          NaN          5.0  \n",
       "\n",
       "[5 rows x 22 columns]"
      ]
     },
     "execution_count": 22,
     "metadata": {},
     "output_type": "execute_result"
    }
   ],
   "source": [
    "data=pd.read_csv('C:/Users/Amruth PC/Desktop/EDA/Internship Survey.csv')\n",
    "data.head()"
   ]
  },
  {
   "cell_type": "code",
   "execution_count": 7,
   "metadata": {},
   "outputs": [
    {
     "name": "stdout",
     "output_type": "stream",
     "text": [
      "0.5912981606995154 0.5545243493701177\n"
     ]
    }
   ],
   "source": [
    "tstat1,pval1=ttest_ind(data['Pre1'],data['Post1'])\n",
    "print(tstat1,pval1)"
   ]
  },
  {
   "cell_type": "code",
   "execution_count": 20,
   "metadata": {},
   "outputs": [],
   "source": [
    "data['Pre2'].fillna(data['Pre2'].mean(), inplace=True)\n",
    "data['Post2'].fillna(data['Post2'].mean(), inplace=True)"
   ]
  },
  {
   "cell_type": "code",
   "execution_count": 21,
   "metadata": {},
   "outputs": [
    {
     "name": "stdout",
     "output_type": "stream",
     "text": [
      "0.8270163851830649 0.40852849202281905\n"
     ]
    }
   ],
   "source": [
    "tstat2,pval2=ttest_ind(data['Pre2'],data['Post2'])\n",
    "print(tstat2,pval2)"
   ]
  },
  {
   "cell_type": "code",
   "execution_count": 23,
   "metadata": {},
   "outputs": [
    {
     "name": "stdout",
     "output_type": "stream",
     "text": [
      "0.20925524585919095 0.8343139506564557\n"
     ]
    }
   ],
   "source": [
    "data['Pre3']=pd.to_numeric(data['Pre3'], errors='coerce')\n",
    "data['Post3']=pd.to_numeric(data['Post3'], errors='coerce')\n",
    "data['Pre3'].fillna(data['Pre3'].mean(), inplace=True)\n",
    "data['Post3'].fillna(data['Post3'].mean(), inplace=True)\n",
    "tstat2,pval2=ttest_ind(data['Pre3'],data['Post3'])\n",
    "print(tstat2,pval2)"
   ]
  },
  {
   "cell_type": "code",
   "execution_count": 13,
   "metadata": {},
   "outputs": [
    {
     "name": "stdout",
     "output_type": "stream",
     "text": [
      "-0.49053969806023345 0.6239160814849805\n"
     ]
    }
   ],
   "source": [
    "data['Pre4'].fillna(data['Pre4'].mean(), inplace=True)\n",
    "data['Post4'].fillna(data['Post4'].mean(), inplace=True)\n",
    "tstat2,pval2=ttest_ind(data['Pre4'],data['Post4'])\n",
    "print(tstat2,pval2)"
   ]
  },
  {
   "cell_type": "code",
   "execution_count": 14,
   "metadata": {},
   "outputs": [
    {
     "name": "stdout",
     "output_type": "stream",
     "text": [
      "-0.16393189036045216 0.8698352554565179\n"
     ]
    }
   ],
   "source": [
    "data['Pre5'].fillna(data['Pre5'].mean(), inplace=True)\n",
    "data['Post5'].fillna(data['Post5'].mean(), inplace=True)\n",
    "tstat2,pval2=ttest_ind(data['Pre5'],data['Post5'])\n",
    "print(tstat2,pval2)"
   ]
  },
  {
   "cell_type": "code",
   "execution_count": 15,
   "metadata": {},
   "outputs": [
    {
     "name": "stdout",
     "output_type": "stream",
     "text": [
      "0.06859820757909049 0.945330349337612\n"
     ]
    }
   ],
   "source": [
    "data['Pre6'].fillna(data['Pre6'].mean(), inplace=True)\n",
    "data['Post6'].fillna(data['Post6'].mean(), inplace=True)\n",
    "tstat2,pval2=ttest_ind(data['Pre6'],data['Post6'])\n",
    "print(tstat2,pval2)"
   ]
  },
  {
   "cell_type": "code",
   "execution_count": 16,
   "metadata": {},
   "outputs": [
    {
     "name": "stdout",
     "output_type": "stream",
     "text": [
      "0.4243512064184311 0.6714488271139224\n"
     ]
    }
   ],
   "source": [
    "data['Pre7'].fillna(data['Pre7'].mean(), inplace=True)\n",
    "data['Post7'].fillna(data['Post7'].mean(), inplace=True)\n",
    "tstat2,pval2=ttest_ind(data['Pre7'],data['Post7'])\n",
    "print(tstat2,pval2)"
   ]
  },
  {
   "cell_type": "code",
   "execution_count": 17,
   "metadata": {},
   "outputs": [
    {
     "name": "stdout",
     "output_type": "stream",
     "text": [
      "0.5186689729683311 0.6041665113420716\n"
     ]
    }
   ],
   "source": [
    "data['Pre8'].fillna(data['Pre8'].mean(), inplace=True)\n",
    "data['Post8'].fillna(data['Post8'].mean(), inplace=True)\n",
    "tstat2,pval2=ttest_ind(data['Pre8'],data['Post8'])\n",
    "print(tstat2,pval2)"
   ]
  },
  {
   "cell_type": "code",
   "execution_count": 18,
   "metadata": {},
   "outputs": [
    {
     "name": "stdout",
     "output_type": "stream",
     "text": [
      "0.45704067897496603 0.6477931138826769\n"
     ]
    }
   ],
   "source": [
    "data['Pre9'].fillna(data['Pre9'].mean(), inplace=True)\n",
    "data['Post9'].fillna(data['Post9'].mean(), inplace=True)\n",
    "tstat2,pval2=ttest_ind(data['Pre9'],data['Post9'])\n",
    "print(tstat2,pval2)"
   ]
  },
  {
   "cell_type": "code",
   "execution_count": 19,
   "metadata": {},
   "outputs": [
    {
     "name": "stdout",
     "output_type": "stream",
     "text": [
      "-0.14659901254553395 0.8834935723712187\n"
     ]
    }
   ],
   "source": [
    "data['Pre10'].fillna(data['Pre10'].mean(), inplace=True)\n",
    "data['Post10'].fillna(data['Post10'].mean(), inplace=True)\n",
    "tstat2,pval2=ttest_ind(data['Pre10'],data['Post10'])\n",
    "print(tstat2,pval2)"
   ]
  },
  {
   "cell_type": "code",
   "execution_count": null,
   "metadata": {},
   "outputs": [],
   "source": []
  },
  {
   "cell_type": "markdown",
   "metadata": {},
   "source": []
  }
 ],
 "metadata": {
  "kernelspec": {
   "display_name": "Python 3",
   "language": "python",
   "name": "python3"
  },
  "language_info": {
   "codemirror_mode": {
    "name": "ipython",
    "version": 3
   },
   "file_extension": ".py",
   "mimetype": "text/x-python",
   "name": "python",
   "nbconvert_exporter": "python",
   "pygments_lexer": "ipython3",
   "version": "3.7.3"
  }
 },
 "nbformat": 4,
 "nbformat_minor": 2
}
