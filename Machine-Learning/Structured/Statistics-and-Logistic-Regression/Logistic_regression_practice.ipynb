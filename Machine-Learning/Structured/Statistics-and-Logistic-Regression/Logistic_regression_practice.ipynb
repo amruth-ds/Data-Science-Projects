{
 "cells": [
  {
   "cell_type": "code",
   "execution_count": 59,
   "metadata": {},
   "outputs": [],
   "source": [
    "from sklearn.datasets import load_breast_cancer\n",
    "from sklearn.model_selection import train_test_split\n",
    "from sklearn.linear_model import LogisticRegression\n",
    "from sklearn import metrics\n",
    "import pandas as pd"
   ]
  },
  {
   "cell_type": "code",
   "execution_count": 60,
   "metadata": {},
   "outputs": [],
   "source": [
    "cancer = load_breast_cancer()\n",
    "cancer_df=pd.DataFrame(cancer.data,columns=cancer.feature_names)"
   ]
  },
  {
   "cell_type": "code",
   "execution_count": 61,
   "metadata": {},
   "outputs": [
    {
     "data": {
      "text/html": [
       "<div>\n",
       "<style scoped>\n",
       "    .dataframe tbody tr th:only-of-type {\n",
       "        vertical-align: middle;\n",
       "    }\n",
       "\n",
       "    .dataframe tbody tr th {\n",
       "        vertical-align: top;\n",
       "    }\n",
       "\n",
       "    .dataframe thead th {\n",
       "        text-align: right;\n",
       "    }\n",
       "</style>\n",
       "<table border=\"1\" class=\"dataframe\">\n",
       "  <thead>\n",
       "    <tr style=\"text-align: right;\">\n",
       "      <th></th>\n",
       "      <th>mean radius</th>\n",
       "      <th>mean texture</th>\n",
       "      <th>mean perimeter</th>\n",
       "      <th>mean area</th>\n",
       "      <th>mean smoothness</th>\n",
       "      <th>mean compactness</th>\n",
       "      <th>mean concavity</th>\n",
       "      <th>mean concave points</th>\n",
       "      <th>mean symmetry</th>\n",
       "      <th>mean fractal dimension</th>\n",
       "      <th>...</th>\n",
       "      <th>worst radius</th>\n",
       "      <th>worst texture</th>\n",
       "      <th>worst perimeter</th>\n",
       "      <th>worst area</th>\n",
       "      <th>worst smoothness</th>\n",
       "      <th>worst compactness</th>\n",
       "      <th>worst concavity</th>\n",
       "      <th>worst concave points</th>\n",
       "      <th>worst symmetry</th>\n",
       "      <th>worst fractal dimension</th>\n",
       "    </tr>\n",
       "  </thead>\n",
       "  <tbody>\n",
       "    <tr>\n",
       "      <th>0</th>\n",
       "      <td>17.99</td>\n",
       "      <td>10.38</td>\n",
       "      <td>122.80</td>\n",
       "      <td>1001.0</td>\n",
       "      <td>0.11840</td>\n",
       "      <td>0.27760</td>\n",
       "      <td>0.3001</td>\n",
       "      <td>0.14710</td>\n",
       "      <td>0.2419</td>\n",
       "      <td>0.07871</td>\n",
       "      <td>...</td>\n",
       "      <td>25.38</td>\n",
       "      <td>17.33</td>\n",
       "      <td>184.60</td>\n",
       "      <td>2019.0</td>\n",
       "      <td>0.1622</td>\n",
       "      <td>0.6656</td>\n",
       "      <td>0.7119</td>\n",
       "      <td>0.2654</td>\n",
       "      <td>0.4601</td>\n",
       "      <td>0.11890</td>\n",
       "    </tr>\n",
       "    <tr>\n",
       "      <th>1</th>\n",
       "      <td>20.57</td>\n",
       "      <td>17.77</td>\n",
       "      <td>132.90</td>\n",
       "      <td>1326.0</td>\n",
       "      <td>0.08474</td>\n",
       "      <td>0.07864</td>\n",
       "      <td>0.0869</td>\n",
       "      <td>0.07017</td>\n",
       "      <td>0.1812</td>\n",
       "      <td>0.05667</td>\n",
       "      <td>...</td>\n",
       "      <td>24.99</td>\n",
       "      <td>23.41</td>\n",
       "      <td>158.80</td>\n",
       "      <td>1956.0</td>\n",
       "      <td>0.1238</td>\n",
       "      <td>0.1866</td>\n",
       "      <td>0.2416</td>\n",
       "      <td>0.1860</td>\n",
       "      <td>0.2750</td>\n",
       "      <td>0.08902</td>\n",
       "    </tr>\n",
       "    <tr>\n",
       "      <th>2</th>\n",
       "      <td>19.69</td>\n",
       "      <td>21.25</td>\n",
       "      <td>130.00</td>\n",
       "      <td>1203.0</td>\n",
       "      <td>0.10960</td>\n",
       "      <td>0.15990</td>\n",
       "      <td>0.1974</td>\n",
       "      <td>0.12790</td>\n",
       "      <td>0.2069</td>\n",
       "      <td>0.05999</td>\n",
       "      <td>...</td>\n",
       "      <td>23.57</td>\n",
       "      <td>25.53</td>\n",
       "      <td>152.50</td>\n",
       "      <td>1709.0</td>\n",
       "      <td>0.1444</td>\n",
       "      <td>0.4245</td>\n",
       "      <td>0.4504</td>\n",
       "      <td>0.2430</td>\n",
       "      <td>0.3613</td>\n",
       "      <td>0.08758</td>\n",
       "    </tr>\n",
       "    <tr>\n",
       "      <th>3</th>\n",
       "      <td>11.42</td>\n",
       "      <td>20.38</td>\n",
       "      <td>77.58</td>\n",
       "      <td>386.1</td>\n",
       "      <td>0.14250</td>\n",
       "      <td>0.28390</td>\n",
       "      <td>0.2414</td>\n",
       "      <td>0.10520</td>\n",
       "      <td>0.2597</td>\n",
       "      <td>0.09744</td>\n",
       "      <td>...</td>\n",
       "      <td>14.91</td>\n",
       "      <td>26.50</td>\n",
       "      <td>98.87</td>\n",
       "      <td>567.7</td>\n",
       "      <td>0.2098</td>\n",
       "      <td>0.8663</td>\n",
       "      <td>0.6869</td>\n",
       "      <td>0.2575</td>\n",
       "      <td>0.6638</td>\n",
       "      <td>0.17300</td>\n",
       "    </tr>\n",
       "    <tr>\n",
       "      <th>4</th>\n",
       "      <td>20.29</td>\n",
       "      <td>14.34</td>\n",
       "      <td>135.10</td>\n",
       "      <td>1297.0</td>\n",
       "      <td>0.10030</td>\n",
       "      <td>0.13280</td>\n",
       "      <td>0.1980</td>\n",
       "      <td>0.10430</td>\n",
       "      <td>0.1809</td>\n",
       "      <td>0.05883</td>\n",
       "      <td>...</td>\n",
       "      <td>22.54</td>\n",
       "      <td>16.67</td>\n",
       "      <td>152.20</td>\n",
       "      <td>1575.0</td>\n",
       "      <td>0.1374</td>\n",
       "      <td>0.2050</td>\n",
       "      <td>0.4000</td>\n",
       "      <td>0.1625</td>\n",
       "      <td>0.2364</td>\n",
       "      <td>0.07678</td>\n",
       "    </tr>\n",
       "  </tbody>\n",
       "</table>\n",
       "<p>5 rows × 30 columns</p>\n",
       "</div>"
      ],
      "text/plain": [
       "   mean radius  mean texture  mean perimeter  mean area  mean smoothness  \\\n",
       "0        17.99         10.38          122.80     1001.0          0.11840   \n",
       "1        20.57         17.77          132.90     1326.0          0.08474   \n",
       "2        19.69         21.25          130.00     1203.0          0.10960   \n",
       "3        11.42         20.38           77.58      386.1          0.14250   \n",
       "4        20.29         14.34          135.10     1297.0          0.10030   \n",
       "\n",
       "   mean compactness  mean concavity  mean concave points  mean symmetry  \\\n",
       "0           0.27760          0.3001              0.14710         0.2419   \n",
       "1           0.07864          0.0869              0.07017         0.1812   \n",
       "2           0.15990          0.1974              0.12790         0.2069   \n",
       "3           0.28390          0.2414              0.10520         0.2597   \n",
       "4           0.13280          0.1980              0.10430         0.1809   \n",
       "\n",
       "   mean fractal dimension           ...             worst radius  \\\n",
       "0                 0.07871           ...                    25.38   \n",
       "1                 0.05667           ...                    24.99   \n",
       "2                 0.05999           ...                    23.57   \n",
       "3                 0.09744           ...                    14.91   \n",
       "4                 0.05883           ...                    22.54   \n",
       "\n",
       "   worst texture  worst perimeter  worst area  worst smoothness  \\\n",
       "0          17.33           184.60      2019.0            0.1622   \n",
       "1          23.41           158.80      1956.0            0.1238   \n",
       "2          25.53           152.50      1709.0            0.1444   \n",
       "3          26.50            98.87       567.7            0.2098   \n",
       "4          16.67           152.20      1575.0            0.1374   \n",
       "\n",
       "   worst compactness  worst concavity  worst concave points  worst symmetry  \\\n",
       "0             0.6656           0.7119                0.2654          0.4601   \n",
       "1             0.1866           0.2416                0.1860          0.2750   \n",
       "2             0.4245           0.4504                0.2430          0.3613   \n",
       "3             0.8663           0.6869                0.2575          0.6638   \n",
       "4             0.2050           0.4000                0.1625          0.2364   \n",
       "\n",
       "   worst fractal dimension  \n",
       "0                  0.11890  \n",
       "1                  0.08902  \n",
       "2                  0.08758  \n",
       "3                  0.17300  \n",
       "4                  0.07678  \n",
       "\n",
       "[5 rows x 30 columns]"
      ]
     },
     "execution_count": 61,
     "metadata": {},
     "output_type": "execute_result"
    }
   ],
   "source": [
    "cancer_df.head()"
   ]
  },
  {
   "cell_type": "code",
   "execution_count": 62,
   "metadata": {},
   "outputs": [
    {
     "data": {
      "text/plain": [
       "Index(['mean radius', 'mean texture', 'mean perimeter', 'mean area',\n",
       "       'mean smoothness', 'mean compactness', 'mean concavity',\n",
       "       'mean concave points', 'mean symmetry', 'mean fractal dimension',\n",
       "       'radius error', 'texture error', 'perimeter error', 'area error',\n",
       "       'smoothness error', 'compactness error', 'concavity error',\n",
       "       'concave points error', 'symmetry error', 'fractal dimension error',\n",
       "       'worst radius', 'worst texture', 'worst perimeter', 'worst area',\n",
       "       'worst smoothness', 'worst compactness', 'worst concavity',\n",
       "       'worst concave points', 'worst symmetry', 'worst fractal dimension'],\n",
       "      dtype='object')"
      ]
     },
     "execution_count": 62,
     "metadata": {},
     "output_type": "execute_result"
    }
   ],
   "source": [
    "cancer_df.columns"
   ]
  },
  {
   "cell_type": "code",
   "execution_count": 63,
   "metadata": {},
   "outputs": [
    {
     "data": {
      "text/html": [
       "<div>\n",
       "<style scoped>\n",
       "    .dataframe tbody tr th:only-of-type {\n",
       "        vertical-align: middle;\n",
       "    }\n",
       "\n",
       "    .dataframe tbody tr th {\n",
       "        vertical-align: top;\n",
       "    }\n",
       "\n",
       "    .dataframe thead th {\n",
       "        text-align: right;\n",
       "    }\n",
       "</style>\n",
       "<table border=\"1\" class=\"dataframe\">\n",
       "  <thead>\n",
       "    <tr style=\"text-align: right;\">\n",
       "      <th></th>\n",
       "      <th>0</th>\n",
       "    </tr>\n",
       "  </thead>\n",
       "  <tbody>\n",
       "    <tr>\n",
       "      <th>0</th>\n",
       "      <td>0</td>\n",
       "    </tr>\n",
       "    <tr>\n",
       "      <th>1</th>\n",
       "      <td>0</td>\n",
       "    </tr>\n",
       "    <tr>\n",
       "      <th>2</th>\n",
       "      <td>0</td>\n",
       "    </tr>\n",
       "    <tr>\n",
       "      <th>3</th>\n",
       "      <td>0</td>\n",
       "    </tr>\n",
       "    <tr>\n",
       "      <th>4</th>\n",
       "      <td>0</td>\n",
       "    </tr>\n",
       "  </tbody>\n",
       "</table>\n",
       "</div>"
      ],
      "text/plain": [
       "   0\n",
       "0  0\n",
       "1  0\n",
       "2  0\n",
       "3  0\n",
       "4  0"
      ]
     },
     "execution_count": 63,
     "metadata": {},
     "output_type": "execute_result"
    }
   ],
   "source": [
    "Y=pd.DataFrame(cancer.target)\n",
    "Y.head()"
   ]
  },
  {
   "cell_type": "code",
   "execution_count": 64,
   "metadata": {},
   "outputs": [],
   "source": [
    "from sklearn.preprocessing import StandardScaler\n",
    "scaler = StandardScaler()\n",
    "cancer_df=scaler.fit_transform(cancer_df)"
   ]
  },
  {
   "cell_type": "code",
   "execution_count": 65,
   "metadata": {},
   "outputs": [],
   "source": [
    "cancer_df=pd.DataFrame(cancer_df)\n",
    "cancer_df.columns=cancer.feature_names\n",
    "X=cancer_df"
   ]
  },
  {
   "cell_type": "code",
   "execution_count": 66,
   "metadata": {},
   "outputs": [
    {
     "data": {
      "text/html": [
       "<div>\n",
       "<style scoped>\n",
       "    .dataframe tbody tr th:only-of-type {\n",
       "        vertical-align: middle;\n",
       "    }\n",
       "\n",
       "    .dataframe tbody tr th {\n",
       "        vertical-align: top;\n",
       "    }\n",
       "\n",
       "    .dataframe thead th {\n",
       "        text-align: right;\n",
       "    }\n",
       "</style>\n",
       "<table border=\"1\" class=\"dataframe\">\n",
       "  <thead>\n",
       "    <tr style=\"text-align: right;\">\n",
       "      <th></th>\n",
       "      <th>mean radius</th>\n",
       "      <th>mean texture</th>\n",
       "      <th>mean perimeter</th>\n",
       "      <th>mean area</th>\n",
       "      <th>mean smoothness</th>\n",
       "      <th>mean compactness</th>\n",
       "      <th>mean concavity</th>\n",
       "      <th>mean concave points</th>\n",
       "      <th>mean symmetry</th>\n",
       "      <th>mean fractal dimension</th>\n",
       "      <th>...</th>\n",
       "      <th>worst radius</th>\n",
       "      <th>worst texture</th>\n",
       "      <th>worst perimeter</th>\n",
       "      <th>worst area</th>\n",
       "      <th>worst smoothness</th>\n",
       "      <th>worst compactness</th>\n",
       "      <th>worst concavity</th>\n",
       "      <th>worst concave points</th>\n",
       "      <th>worst symmetry</th>\n",
       "      <th>worst fractal dimension</th>\n",
       "    </tr>\n",
       "  </thead>\n",
       "  <tbody>\n",
       "    <tr>\n",
       "      <th>0</th>\n",
       "      <td>1.097064</td>\n",
       "      <td>-2.073335</td>\n",
       "      <td>1.269934</td>\n",
       "      <td>0.984375</td>\n",
       "      <td>1.568466</td>\n",
       "      <td>3.283515</td>\n",
       "      <td>2.652874</td>\n",
       "      <td>2.532475</td>\n",
       "      <td>2.217515</td>\n",
       "      <td>2.255747</td>\n",
       "      <td>...</td>\n",
       "      <td>1.886690</td>\n",
       "      <td>-1.359293</td>\n",
       "      <td>2.303601</td>\n",
       "      <td>2.001237</td>\n",
       "      <td>1.307686</td>\n",
       "      <td>2.616665</td>\n",
       "      <td>2.109526</td>\n",
       "      <td>2.296076</td>\n",
       "      <td>2.750622</td>\n",
       "      <td>1.937015</td>\n",
       "    </tr>\n",
       "    <tr>\n",
       "      <th>1</th>\n",
       "      <td>1.829821</td>\n",
       "      <td>-0.353632</td>\n",
       "      <td>1.685955</td>\n",
       "      <td>1.908708</td>\n",
       "      <td>-0.826962</td>\n",
       "      <td>-0.487072</td>\n",
       "      <td>-0.023846</td>\n",
       "      <td>0.548144</td>\n",
       "      <td>0.001392</td>\n",
       "      <td>-0.868652</td>\n",
       "      <td>...</td>\n",
       "      <td>1.805927</td>\n",
       "      <td>-0.369203</td>\n",
       "      <td>1.535126</td>\n",
       "      <td>1.890489</td>\n",
       "      <td>-0.375612</td>\n",
       "      <td>-0.430444</td>\n",
       "      <td>-0.146749</td>\n",
       "      <td>1.087084</td>\n",
       "      <td>-0.243890</td>\n",
       "      <td>0.281190</td>\n",
       "    </tr>\n",
       "    <tr>\n",
       "      <th>2</th>\n",
       "      <td>1.579888</td>\n",
       "      <td>0.456187</td>\n",
       "      <td>1.566503</td>\n",
       "      <td>1.558884</td>\n",
       "      <td>0.942210</td>\n",
       "      <td>1.052926</td>\n",
       "      <td>1.363478</td>\n",
       "      <td>2.037231</td>\n",
       "      <td>0.939685</td>\n",
       "      <td>-0.398008</td>\n",
       "      <td>...</td>\n",
       "      <td>1.511870</td>\n",
       "      <td>-0.023974</td>\n",
       "      <td>1.347475</td>\n",
       "      <td>1.456285</td>\n",
       "      <td>0.527407</td>\n",
       "      <td>1.082932</td>\n",
       "      <td>0.854974</td>\n",
       "      <td>1.955000</td>\n",
       "      <td>1.152255</td>\n",
       "      <td>0.201391</td>\n",
       "    </tr>\n",
       "    <tr>\n",
       "      <th>3</th>\n",
       "      <td>-0.768909</td>\n",
       "      <td>0.253732</td>\n",
       "      <td>-0.592687</td>\n",
       "      <td>-0.764464</td>\n",
       "      <td>3.283553</td>\n",
       "      <td>3.402909</td>\n",
       "      <td>1.915897</td>\n",
       "      <td>1.451707</td>\n",
       "      <td>2.867383</td>\n",
       "      <td>4.910919</td>\n",
       "      <td>...</td>\n",
       "      <td>-0.281464</td>\n",
       "      <td>0.133984</td>\n",
       "      <td>-0.249939</td>\n",
       "      <td>-0.550021</td>\n",
       "      <td>3.394275</td>\n",
       "      <td>3.893397</td>\n",
       "      <td>1.989588</td>\n",
       "      <td>2.175786</td>\n",
       "      <td>6.046041</td>\n",
       "      <td>4.935010</td>\n",
       "    </tr>\n",
       "    <tr>\n",
       "      <th>4</th>\n",
       "      <td>1.750297</td>\n",
       "      <td>-1.151816</td>\n",
       "      <td>1.776573</td>\n",
       "      <td>1.826229</td>\n",
       "      <td>0.280372</td>\n",
       "      <td>0.539340</td>\n",
       "      <td>1.371011</td>\n",
       "      <td>1.428493</td>\n",
       "      <td>-0.009560</td>\n",
       "      <td>-0.562450</td>\n",
       "      <td>...</td>\n",
       "      <td>1.298575</td>\n",
       "      <td>-1.466770</td>\n",
       "      <td>1.338539</td>\n",
       "      <td>1.220724</td>\n",
       "      <td>0.220556</td>\n",
       "      <td>-0.313395</td>\n",
       "      <td>0.613179</td>\n",
       "      <td>0.729259</td>\n",
       "      <td>-0.868353</td>\n",
       "      <td>-0.397100</td>\n",
       "    </tr>\n",
       "  </tbody>\n",
       "</table>\n",
       "<p>5 rows × 30 columns</p>\n",
       "</div>"
      ],
      "text/plain": [
       "   mean radius  mean texture  mean perimeter  mean area  mean smoothness  \\\n",
       "0     1.097064     -2.073335        1.269934   0.984375         1.568466   \n",
       "1     1.829821     -0.353632        1.685955   1.908708        -0.826962   \n",
       "2     1.579888      0.456187        1.566503   1.558884         0.942210   \n",
       "3    -0.768909      0.253732       -0.592687  -0.764464         3.283553   \n",
       "4     1.750297     -1.151816        1.776573   1.826229         0.280372   \n",
       "\n",
       "   mean compactness  mean concavity  mean concave points  mean symmetry  \\\n",
       "0          3.283515        2.652874             2.532475       2.217515   \n",
       "1         -0.487072       -0.023846             0.548144       0.001392   \n",
       "2          1.052926        1.363478             2.037231       0.939685   \n",
       "3          3.402909        1.915897             1.451707       2.867383   \n",
       "4          0.539340        1.371011             1.428493      -0.009560   \n",
       "\n",
       "   mean fractal dimension           ...             worst radius  \\\n",
       "0                2.255747           ...                 1.886690   \n",
       "1               -0.868652           ...                 1.805927   \n",
       "2               -0.398008           ...                 1.511870   \n",
       "3                4.910919           ...                -0.281464   \n",
       "4               -0.562450           ...                 1.298575   \n",
       "\n",
       "   worst texture  worst perimeter  worst area  worst smoothness  \\\n",
       "0      -1.359293         2.303601    2.001237          1.307686   \n",
       "1      -0.369203         1.535126    1.890489         -0.375612   \n",
       "2      -0.023974         1.347475    1.456285          0.527407   \n",
       "3       0.133984        -0.249939   -0.550021          3.394275   \n",
       "4      -1.466770         1.338539    1.220724          0.220556   \n",
       "\n",
       "   worst compactness  worst concavity  worst concave points  worst symmetry  \\\n",
       "0           2.616665         2.109526              2.296076        2.750622   \n",
       "1          -0.430444        -0.146749              1.087084       -0.243890   \n",
       "2           1.082932         0.854974              1.955000        1.152255   \n",
       "3           3.893397         1.989588              2.175786        6.046041   \n",
       "4          -0.313395         0.613179              0.729259       -0.868353   \n",
       "\n",
       "   worst fractal dimension  \n",
       "0                 1.937015  \n",
       "1                 0.281190  \n",
       "2                 0.201391  \n",
       "3                 4.935010  \n",
       "4                -0.397100  \n",
       "\n",
       "[5 rows x 30 columns]"
      ]
     },
     "execution_count": 66,
     "metadata": {},
     "output_type": "execute_result"
    }
   ],
   "source": [
    "X.head()"
   ]
  },
  {
   "cell_type": "code",
   "execution_count": 67,
   "metadata": {},
   "outputs": [],
   "source": [
    "#Step3-Spliting the data set into train and test models\n",
    "from sklearn.model_selection import train_test_split\n",
    "x_train,x_test,y_train,y_test=train_test_split(X,Y,test_size=0.3,random_state=0)"
   ]
  },
  {
   "cell_type": "code",
   "execution_count": 68,
   "metadata": {},
   "outputs": [
    {
     "name": "stderr",
     "output_type": "stream",
     "text": [
      "C:\\Users\\Amruth PC\\Anaconda3\\lib\\site-packages\\sklearn\\linear_model\\logistic.py:432: FutureWarning: Default solver will be changed to 'lbfgs' in 0.22. Specify a solver to silence this warning.\n",
      "  FutureWarning)\n",
      "C:\\Users\\Amruth PC\\Anaconda3\\lib\\site-packages\\sklearn\\utils\\validation.py:724: DataConversionWarning: A column-vector y was passed when a 1d array was expected. Please change the shape of y to (n_samples, ), for example using ravel().\n",
      "  y = column_or_1d(y, warn=True)\n"
     ]
    },
    {
     "data": {
      "text/plain": [
       "LogisticRegression(C=1.0, class_weight=None, dual=False, fit_intercept=True,\n",
       "                   intercept_scaling=1, l1_ratio=None, max_iter=100,\n",
       "                   multi_class='warn', n_jobs=None, penalty='l2',\n",
       "                   random_state=None, solver='warn', tol=0.0001, verbose=0,\n",
       "                   warm_start=False)"
      ]
     },
     "execution_count": 68,
     "metadata": {},
     "output_type": "execute_result"
    }
   ],
   "source": [
    "#applying the logistic regression\n",
    "from sklearn.linear_model import LogisticRegression\n",
    "classifier=LogisticRegression()\n",
    "classifier.fit(x_train,y_train)\n"
   ]
  },
  {
   "cell_type": "code",
   "execution_count": 69,
   "metadata": {},
   "outputs": [
    {
     "data": {
      "text/plain": [
       "array([[-0.25840359, -0.5880958 , -0.27416781, -0.3520136 , -0.13354014,\n",
       "         0.41468589, -0.67227465, -0.74147194, -0.3800354 ,  0.02991019,\n",
       "        -1.35226951,  0.1408772 , -0.91142999, -0.98366515,  0.25770894,\n",
       "         0.92407813, -0.13327435, -0.34673898,  0.16811638,  0.91286138,\n",
       "        -0.84755236, -0.91017679, -0.73591256, -0.8511223 , -0.56846902,\n",
       "         0.17687916, -0.8257333 , -1.08177893, -0.48462679, -0.60818805]])"
      ]
     },
     "execution_count": 69,
     "metadata": {},
     "output_type": "execute_result"
    }
   ],
   "source": [
    "classifier.coef_\n"
   ]
  },
  {
   "cell_type": "code",
   "execution_count": 70,
   "metadata": {},
   "outputs": [
    {
     "data": {
      "text/plain": [
       "array([0, 1, 1, 1, 1, 1, 1, 1, 1, 1, 1, 1, 1, 1, 1, 0, 1, 0, 0, 0, 0, 0,\n",
       "       1, 1, 0, 1, 1, 0, 1, 0, 1, 0, 1, 0, 1, 0, 1, 0, 1, 0, 0, 1, 0, 1,\n",
       "       1, 0, 1, 1, 1, 0, 0, 0, 0, 1, 1, 1, 1, 1, 1, 0, 0, 0, 1, 1, 0, 1,\n",
       "       0, 0, 0, 1, 1, 0, 1, 0, 0, 1, 1, 1, 1, 1, 0, 0, 0, 1, 0, 1, 1, 1,\n",
       "       0, 0, 1, 0, 0, 0, 1, 1, 0, 1, 1, 1, 1, 1, 1, 1, 0, 1, 0, 1, 1, 1,\n",
       "       1, 0, 0, 1, 1, 1, 1, 1, 1, 1, 1, 1, 0, 1, 0, 1, 1, 1, 1, 1, 0, 1,\n",
       "       1, 1, 1, 1, 1, 0, 0, 1, 1, 1, 0, 1, 1, 0, 1, 0, 1, 1, 1, 1, 1, 1,\n",
       "       1, 0, 1, 0, 1, 0, 0, 1, 1, 0, 1, 0, 0, 0, 1, 1, 1])"
      ]
     },
     "execution_count": 70,
     "metadata": {},
     "output_type": "execute_result"
    }
   ],
   "source": [
    "#Predicting values of test set\n",
    "y_pred=classifier.predict(x_test)\n",
    "y_pred"
   ]
  },
  {
   "cell_type": "code",
   "execution_count": 71,
   "metadata": {},
   "outputs": [
    {
     "data": {
      "text/plain": [
       "array([[ 61,   2],\n",
       "       [  1, 107]], dtype=int64)"
      ]
     },
     "execution_count": 71,
     "metadata": {},
     "output_type": "execute_result"
    }
   ],
   "source": [
    "#Generating Confusion Matrix\n",
    "from sklearn.metrics import confusion_matrix\n",
    "cm=confusion_matrix(y_test,y_pred)\n",
    "cm"
   ]
  },
  {
   "cell_type": "code",
   "execution_count": 72,
   "metadata": {},
   "outputs": [
    {
     "data": {
      "text/plain": [
       "0.9824561403508771"
      ]
     },
     "execution_count": 72,
     "metadata": {},
     "output_type": "execute_result"
    }
   ],
   "source": [
    "from sklearn.metrics import accuracy_score\n",
    "accuracy_score(y_test, y_pred)"
   ]
  },
  {
   "cell_type": "code",
   "execution_count": 73,
   "metadata": {},
   "outputs": [
    {
     "data": {
      "text/plain": [
       "array([[9.98659674e-01, 1.34032611e-03],\n",
       "       [3.83757155e-02, 9.61624285e-01],\n",
       "       [1.30631427e-03, 9.98693686e-01],\n",
       "       [1.04295022e-02, 9.89570498e-01],\n",
       "       [2.45365395e-04, 9.99754635e-01],\n",
       "       [5.90983335e-03, 9.94090167e-01],\n",
       "       [1.53980448e-04, 9.99846020e-01],\n",
       "       [1.66757621e-03, 9.98332424e-01],\n",
       "       [8.77821012e-05, 9.99912218e-01],\n",
       "       [2.40580999e-06, 9.99997594e-01],\n",
       "       [2.17544441e-01, 7.82455559e-01],\n",
       "       [7.61017681e-02, 9.23898232e-01],\n",
       "       [1.58495357e-05, 9.99984150e-01],\n",
       "       [4.79579514e-01, 5.20420486e-01],\n",
       "       [4.39009716e-01, 5.60990284e-01],\n",
       "       [9.95892920e-01, 4.10707988e-03],\n",
       "       [6.28607389e-03, 9.93713926e-01],\n",
       "       [9.99995768e-01, 4.23185811e-06],\n",
       "       [9.99901342e-01, 9.86579378e-05],\n",
       "       [9.99999997e-01, 3.05116592e-09],\n",
       "       [9.98609546e-01, 1.39045385e-03],\n",
       "       [9.79773916e-01, 2.02260841e-02],\n",
       "       [1.99101831e-02, 9.80089817e-01],\n",
       "       [1.26428540e-03, 9.98735715e-01],\n",
       "       [9.99094738e-01, 9.05261603e-04],\n",
       "       [8.04499833e-04, 9.99195500e-01],\n",
       "       [6.07613803e-05, 9.99939239e-01],\n",
       "       [9.72580694e-01, 2.74193058e-02],\n",
       "       [1.70690153e-03, 9.98293098e-01],\n",
       "       [9.99997129e-01, 2.87109474e-06],\n",
       "       [6.81793645e-05, 9.99931821e-01],\n",
       "       [9.99932258e-01, 6.77415296e-05],\n",
       "       [1.42067848e-01, 8.57932152e-01],\n",
       "       [9.96040071e-01, 3.95992932e-03],\n",
       "       [5.01980460e-06, 9.99994980e-01],\n",
       "       [9.97698696e-01, 2.30130414e-03],\n",
       "       [2.30145422e-02, 9.76985458e-01],\n",
       "       [9.99390723e-01, 6.09277297e-04],\n",
       "       [9.02701784e-03, 9.90972982e-01],\n",
       "       [9.99574771e-01, 4.25228908e-04],\n",
       "       [9.24383811e-01, 7.56161892e-02],\n",
       "       [1.12678251e-04, 9.99887322e-01],\n",
       "       [9.12521299e-01, 8.74787007e-02],\n",
       "       [9.12133453e-05, 9.99908787e-01],\n",
       "       [8.72528226e-02, 9.12747177e-01],\n",
       "       [9.99999999e-01, 1.39600350e-09],\n",
       "       [1.25559273e-06, 9.99998744e-01],\n",
       "       [1.45379982e-02, 9.85462002e-01],\n",
       "       [6.46846781e-04, 9.99353153e-01],\n",
       "       [9.99906047e-01, 9.39528130e-05],\n",
       "       [9.99988582e-01, 1.14177127e-05],\n",
       "       [8.31017612e-01, 1.68982388e-01],\n",
       "       [9.99954327e-01, 4.56725633e-05],\n",
       "       [1.65595158e-03, 9.98344048e-01],\n",
       "       [2.54876967e-03, 9.97451230e-01],\n",
       "       [6.99477173e-04, 9.99300523e-01],\n",
       "       [8.96075252e-04, 9.99103925e-01],\n",
       "       [5.26546378e-03, 9.94734536e-01],\n",
       "       [8.91610092e-03, 9.91083899e-01],\n",
       "       [9.99999998e-01, 1.63257561e-09],\n",
       "       [9.98007177e-01, 1.99282317e-03],\n",
       "       [9.99264381e-01, 7.35618826e-04],\n",
       "       [4.60865939e-05, 9.99953913e-01],\n",
       "       [4.29568330e-03, 9.95704317e-01],\n",
       "       [9.99910939e-01, 8.90606428e-05],\n",
       "       [1.21580394e-01, 8.78419606e-01],\n",
       "       [1.00000000e+00, 2.36776697e-13],\n",
       "       [9.99998314e-01, 1.68591905e-06],\n",
       "       [9.99998835e-01, 1.16501892e-06],\n",
       "       [1.03460850e-03, 9.98965391e-01],\n",
       "       [4.27598597e-01, 5.72401403e-01],\n",
       "       [9.99992553e-01, 7.44712359e-06],\n",
       "       [3.65362904e-03, 9.96346371e-01],\n",
       "       [8.02339394e-01, 1.97660606e-01],\n",
       "       [9.99996986e-01, 3.01351695e-06],\n",
       "       [1.63120815e-02, 9.83687919e-01],\n",
       "       [8.74842592e-05, 9.99912516e-01],\n",
       "       [4.19595753e-02, 9.58040425e-01],\n",
       "       [4.05188553e-04, 9.99594811e-01],\n",
       "       [2.10270086e-05, 9.99978973e-01],\n",
       "       [9.82953821e-01, 1.70461787e-02],\n",
       "       [1.00000000e+00, 3.71938131e-10],\n",
       "       [9.99989847e-01, 1.01531638e-05],\n",
       "       [5.63023086e-05, 9.99943698e-01],\n",
       "       [9.63363550e-01, 3.66364499e-02],\n",
       "       [1.90406825e-03, 9.98095932e-01],\n",
       "       [5.99205954e-05, 9.99940079e-01],\n",
       "       [8.66077274e-06, 9.99991339e-01],\n",
       "       [9.99881321e-01, 1.18678623e-04],\n",
       "       [1.00000000e+00, 1.49183486e-10],\n",
       "       [5.27631184e-05, 9.99947237e-01],\n",
       "       [5.49864106e-01, 4.50135894e-01],\n",
       "       [6.38427488e-01, 3.61572512e-01],\n",
       "       [9.99995588e-01, 4.41168378e-06],\n",
       "       [1.92924696e-03, 9.98070753e-01],\n",
       "       [3.24802682e-03, 9.96751973e-01],\n",
       "       [9.99999993e-01, 6.60211691e-09],\n",
       "       [1.65140842e-02, 9.83485916e-01],\n",
       "       [1.04340877e-02, 9.89565912e-01],\n",
       "       [1.24088215e-03, 9.98759118e-01],\n",
       "       [9.21858245e-09, 9.99999991e-01],\n",
       "       [3.28224430e-03, 9.96717756e-01],\n",
       "       [5.33887232e-03, 9.94661128e-01],\n",
       "       [1.51964647e-01, 8.48035353e-01],\n",
       "       [9.99991306e-01, 8.69390431e-06],\n",
       "       [1.24464413e-03, 9.98755356e-01],\n",
       "       [9.99995125e-01, 4.87477616e-06],\n",
       "       [1.28007414e-01, 8.71992586e-01],\n",
       "       [2.77553092e-01, 7.22446908e-01],\n",
       "       [2.80696603e-02, 9.71930340e-01],\n",
       "       [4.06104535e-02, 9.59389546e-01],\n",
       "       [9.99973412e-01, 2.65881617e-05],\n",
       "       [9.99885153e-01, 1.14847373e-04],\n",
       "       [9.48687448e-02, 9.05131255e-01],\n",
       "       [9.54059258e-04, 9.99045941e-01],\n",
       "       [2.66369938e-02, 9.73363006e-01],\n",
       "       [1.37344036e-01, 8.62655964e-01],\n",
       "       [1.73178798e-03, 9.98268212e-01],\n",
       "       [1.73458183e-02, 9.82654182e-01],\n",
       "       [1.34759796e-03, 9.98652402e-01],\n",
       "       [1.45950681e-02, 9.85404932e-01],\n",
       "       [1.69475779e-03, 9.98305242e-01],\n",
       "       [5.01784842e-01, 4.98215158e-01],\n",
       "       [3.30210935e-02, 9.66978907e-01],\n",
       "       [9.99999899e-01, 1.00626494e-07],\n",
       "       [1.84391689e-01, 8.15608311e-01],\n",
       "       [4.55196159e-01, 5.44803841e-01],\n",
       "       [3.30708409e-04, 9.99669292e-01],\n",
       "       [4.64198843e-05, 9.99953580e-01],\n",
       "       [3.79980428e-05, 9.99962002e-01],\n",
       "       [9.99875004e-01, 1.24996003e-04],\n",
       "       [1.34738739e-04, 9.99865261e-01],\n",
       "       [2.58399846e-04, 9.99741600e-01],\n",
       "       [2.02943382e-01, 7.97056618e-01],\n",
       "       [4.51414165e-02, 9.54858584e-01],\n",
       "       [2.56288231e-05, 9.99974371e-01],\n",
       "       [4.50778821e-01, 5.49221179e-01],\n",
       "       [6.43253298e-01, 3.56746702e-01],\n",
       "       [1.00000000e+00, 2.08966390e-12],\n",
       "       [1.30856074e-04, 9.99869144e-01],\n",
       "       [1.72138393e-03, 9.98278616e-01],\n",
       "       [1.10153301e-03, 9.98898467e-01],\n",
       "       [9.99999990e-01, 9.77650081e-09],\n",
       "       [4.23830566e-03, 9.95761694e-01],\n",
       "       [4.10044751e-04, 9.99589955e-01],\n",
       "       [9.99999239e-01, 7.61158109e-07],\n",
       "       [5.64491081e-03, 9.94355089e-01],\n",
       "       [6.85337213e-01, 3.14662787e-01],\n",
       "       [1.36437176e-03, 9.98635628e-01],\n",
       "       [2.33984822e-03, 9.97660152e-01],\n",
       "       [2.44885472e-03, 9.97551145e-01],\n",
       "       [4.40961647e-02, 9.55903835e-01],\n",
       "       [4.52437304e-01, 5.47562696e-01],\n",
       "       [3.23091288e-01, 6.76908712e-01],\n",
       "       [2.27805531e-04, 9.99772194e-01],\n",
       "       [9.95166852e-01, 4.83314785e-03],\n",
       "       [1.95228476e-02, 9.80477152e-01],\n",
       "       [9.44259346e-01, 5.57406542e-02],\n",
       "       [3.13380112e-04, 9.99686620e-01],\n",
       "       [9.99991606e-01, 8.39367247e-06],\n",
       "       [9.99999010e-01, 9.89894982e-07],\n",
       "       [5.25308973e-04, 9.99474691e-01],\n",
       "       [1.70298227e-02, 9.82970177e-01],\n",
       "       [9.98763600e-01, 1.23639976e-03],\n",
       "       [5.83331202e-04, 9.99416669e-01],\n",
       "       [9.99880424e-01, 1.19575874e-04],\n",
       "       [9.89472443e-01, 1.05275575e-02],\n",
       "       [9.99334926e-01, 6.65074421e-04],\n",
       "       [1.24594623e-01, 8.75405377e-01],\n",
       "       [8.29486066e-03, 9.91705139e-01],\n",
       "       [4.16309963e-05, 9.99958369e-01]])"
      ]
     },
     "execution_count": 73,
     "metadata": {},
     "output_type": "execute_result"
    }
   ],
   "source": [
    "probab=classifier.predict_proba(x_test)\n",
    "probab"
   ]
  },
  {
   "cell_type": "code",
   "execution_count": 74,
   "metadata": {},
   "outputs": [
    {
     "name": "stdout",
     "output_type": "stream",
     "text": [
      "Area under the curve : 0.9947089947089947\n"
     ]
    },
    {
     "data": {
      "text/plain": [
       "array([1.99999999e+00, 9.99999991e-01, 9.73363006e-01, 9.71930340e-01,\n",
       "       7.82455559e-01, 7.22446908e-01, 5.20420486e-01, 4.50135894e-01,\n",
       "       3.61572512e-01, 2.36776697e-13])"
      ]
     },
     "execution_count": 74,
     "metadata": {},
     "output_type": "execute_result"
    }
   ],
   "source": [
    "from sklearn import metrics\n",
    "probab=classifier.predict_proba(x_test)\n",
    "prob_positive = probab[:,1]\n",
    "fpr,tpr,threshold=metrics.roc_curve(y_test,prob_positive)\n",
    "roc_auc=metrics.auc(fpr,tpr)\n",
    "print('Area under the curve :',roc_auc)\n",
    "threshold"
   ]
  },
  {
   "cell_type": "code",
   "execution_count": 45,
   "metadata": {},
   "outputs": [
    {
     "data": {
      "image/png": "[encoded data removed]",
      "text/plain": [
       "<Figure size 432x288 with 1 Axes>"
      ]
     },
     "metadata": {
      "needs_background": "light"
     },
     "output_type": "display_data"
    }
   ],
   "source": [
    "import matplotlib.pyplot as plt\n",
    "plt.title('Receiver Operating Characteristic')\n",
    "plt.plot(fpr,tpr,'orange',label='AUC=%0.2f' % roc_auc)\n",
    "plt.legend(loc='lower right')\n",
    "plt.plot([0,1],[0,1],color='darkblue',linestyle='--')\n",
    "plt.ylabel('True positive rate')\n",
    "plt.xlabel('False positive rate')\n",
    "plt.show()"
   ]
  },
  {
   "cell_type": "code",
   "execution_count": 51,
   "metadata": {},
   "outputs": [],
   "source": [
    "mytresshold=0.3\n",
    "new_probs=(classifier.predict_proba(x_test)>=mytresshold).astype(int)"
   ]
  },
  {
   "cell_type": "code",
   "execution_count": 54,
   "metadata": {},
   "outputs": [
    {
     "name": "stdout",
     "output_type": "stream",
     "text": [
      "Area under the curve : 0.9523809523809523\n"
     ]
    }
   ],
   "source": [
    "from sklearn import metrics\n",
    "prob_positive = new_probs[:,1]\n",
    "fpr,tpr,threshold=metrics.roc_curve(y_test,prob_positive)\n",
    "roc_auc=metrics.auc(fpr,tpr)\n",
    "print('Area under the curve :',roc_auc)\n"
   ]
  },
  {
   "cell_type": "code",
   "execution_count": 56,
   "metadata": {},
   "outputs": [
    {
     "data": {
      "text/plain": [
       "array([[ 57,   6],\n",
       "       [  0, 108]], dtype=int64)"
      ]
     },
     "execution_count": 56,
     "metadata": {},
     "output_type": "execute_result"
    }
   ],
   "source": [
    "#Generating Confusion Matrix\n",
    "from sklearn.metrics import confusion_matrix\n",
    "cm=confusion_matrix(y_test,prob_positive)\n",
    "cm"
   ]
  },
  {
   "cell_type": "code",
   "execution_count": 57,
   "metadata": {},
   "outputs": [
    {
     "data": {
      "image/png": "[encoded data removed]",
      "text/plain": [
       "<Figure size 432x288 with 1 Axes>"
      ]
     },
     "metadata": {
      "needs_background": "light"
     },
     "output_type": "display_data"
    }
   ],
   "source": [
    "import matplotlib.pyplot as plt\n",
    "plt.title('Receiver Operating Characteristic')\n",
    "plt.plot(fpr,tpr,'orange',label='AUC=%0.2f' % roc_auc)\n",
    "plt.legend(loc='lower right')\n",
    "plt.plot([0,1],[0,1],color='darkblue',linestyle='--')\n",
    "plt.ylabel('True positive rate')\n",
    "plt.xlabel('False positive rate')\n",
    "plt.show()"
   ]
  },
  {
   "cell_type": "code",
   "execution_count": null,
   "metadata": {},
   "outputs": [],
   "source": []
  }
 ],
 "metadata": {
  "kernelspec": {
   "display_name": "Python 3",
   "language": "python",
   "name": "python3"
  },
  "language_info": {
   "codemirror_mode": {
    "name": "ipython",
    "version": 3
   },
   "file_extension": ".py",
   "mimetype": "text/x-python",
   "name": "python",
   "nbconvert_exporter": "python",
   "pygments_lexer": "ipython3",
   "version": "3.7.5"
  }
 },
 "nbformat": 4,
 "nbformat_minor": 2
}
