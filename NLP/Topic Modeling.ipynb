{
 "cells": [
  {
   "cell_type": "code",
   "execution_count": 1,
   "metadata": {
    "collapsed": true
   },
   "outputs": [
    {
     "name": "stdout",
     "output_type": "stream",
     "text": [
      "Requirement already satisfied: gensim in c:\\programdata\\anaconda3\\lib\\site-packages (3.8.1)\n",
      "Requirement already satisfied: smart-open>=1.8.1 in c:\\programdata\\anaconda3\\lib\\site-packages (from gensim) (1.9.0)\n",
      "Requirement already satisfied: six>=1.5.0 in c:\\programdata\\anaconda3\\lib\\site-packages (from gensim) (1.12.0)\n",
      "Requirement already satisfied: numpy>=1.11.3 in c:\\programdata\\anaconda3\\lib\\site-packages (from gensim) (1.16.2)\n",
      "Requirement already satisfied: scipy>=0.18.1 in c:\\programdata\\anaconda3\\lib\\site-packages (from gensim) (1.2.1)\n",
      "Requirement already satisfied: boto>=2.32 in c:\\programdata\\anaconda3\\lib\\site-packages (from smart-open>=1.8.1->gensim) (2.49.0)\n",
      "Requirement already satisfied: boto3 in c:\\programdata\\anaconda3\\lib\\site-packages (from smart-open>=1.8.1->gensim) (1.10.10)\n",
      "Requirement already satisfied: requests in c:\\programdata\\anaconda3\\lib\\site-packages (from smart-open>=1.8.1->gensim) (2.21.0)\n",
      "Requirement already satisfied: s3transfer<0.3.0,>=0.2.0 in c:\\programdata\\anaconda3\\lib\\site-packages (from boto3->smart-open>=1.8.1->gensim) (0.2.1)\n",
      "Requirement already satisfied: botocore<1.14.0,>=1.13.10 in c:\\programdata\\anaconda3\\lib\\site-packages (from boto3->smart-open>=1.8.1->gensim) (1.13.10)\n",
      "Requirement already satisfied: jmespath<1.0.0,>=0.7.1 in c:\\programdata\\anaconda3\\lib\\site-packages (from boto3->smart-open>=1.8.1->gensim) (0.9.4)\n",
      "Requirement already satisfied: idna<2.9,>=2.5 in c:\\programdata\\anaconda3\\lib\\site-packages (from requests->smart-open>=1.8.1->gensim) (2.8)\n",
      "Requirement already satisfied: certifi>=2017.4.17 in c:\\programdata\\anaconda3\\lib\\site-packages (from requests->smart-open>=1.8.1->gensim) (2019.3.9)\n",
      "Requirement already satisfied: urllib3<1.25,>=1.21.1 in c:\\programdata\\anaconda3\\lib\\site-packages (from requests->smart-open>=1.8.1->gensim) (1.24.1)\n",
      "Requirement already satisfied: chardet<3.1.0,>=3.0.2 in c:\\programdata\\anaconda3\\lib\\site-packages (from requests->smart-open>=1.8.1->gensim) (3.0.4)\n",
      "Requirement already satisfied: python-dateutil<2.8.1,>=2.1; python_version >= \"2.7\" in c:\\programdata\\anaconda3\\lib\\site-packages (from botocore<1.14.0,>=1.13.10->boto3->smart-open>=1.8.1->gensim) (2.8.0)\n",
      "Requirement already satisfied: docutils<0.16,>=0.10 in c:\\programdata\\anaconda3\\lib\\site-packages (from botocore<1.14.0,>=1.13.10->boto3->smart-open>=1.8.1->gensim) (0.14)\n"
     ]
    }
   ],
   "source": [
    "!pip install gensim"
   ]
  },
  {
   "cell_type": "code",
   "execution_count": 1,
   "metadata": {},
   "outputs": [],
   "source": [
    "doc1 = \"Sugar is bad to consume. My sister likes to have sugar, but not my father.\"\n",
    "doc2 = \"My father spends a lot of time driving my sister around to dance practice.\"\n",
    "doc3 = \"Doctors suggest that driving may cause increased stress and blood pressure.\"\n",
    "doc4 = \"Sometimes I feel pressure to perform well at school,\\\n",
    "but my father never seems to drive my sister to do better.\"\n",
    "doc5 = \"Health experts say that Sugar is not good for your lifestyle.\"\n",
    "\n",
    "# compile documents\n",
    "doc_complete = [doc1, doc2, doc3, doc4, doc5]"
   ]
  },
  {
   "cell_type": "code",
   "execution_count": 2,
   "metadata": {},
   "outputs": [],
   "source": [
    "from nltk.corpus import stopwords\n",
    "import string\n",
    "from string import punctuation\n",
    "from nltk.stem import SnowballStemmer\n",
    "from nltk.tokenize import word_tokenize"
   ]
  },
  {
   "cell_type": "code",
   "execution_count": 3,
   "metadata": {},
   "outputs": [],
   "source": [
    "def clean_txt(sent):\n",
    "    stemmer_s = SnowballStemmer(\"english\")\n",
    "    tokens = word_tokenize(sent.lower().replace('[^a-z ]',''))\n",
    "    stop_updated = stopwords.words(\"english\") + list(punctuation) + [\"...\"] + \\\n",
    "    [\"would\", \"could\",\"told\",\"subject\"]\n",
    "    text = [stemmer_s.stem(term) for term in tokens if term not in stop_updated and len(term) > 2] \n",
    "    res = \" \".join(text)\n",
    "    return res\n",
    "doc_clean = [clean_txt(doc).split() for doc in doc_complete]"
   ]
  },
  {
   "cell_type": "code",
   "execution_count": 4,
   "metadata": {
    "scrolled": true
   },
   "outputs": [
    {
     "name": "stdout",
     "output_type": "stream",
     "text": [
      "[['sugar', 'bad', 'consum', 'sister', 'like', 'sugar', 'father'], ['father', 'spend', 'lot', 'time', 'drive', 'sister', 'around', 'danc', 'practic'], ['doctor', 'suggest', 'drive', 'may', 'caus', 'increas', 'stress', 'blood', 'pressur'], ['sometim', 'feel', 'pressur', 'perform', 'well', 'school', 'father', 'never', 'seem', 'drive', 'sister', 'better'], ['health', 'expert', 'say', 'sugar', 'good', 'lifestyl']]\n"
     ]
    }
   ],
   "source": [
    "# 2d list of words in the entire corpus\n",
    "print(doc_clean)"
   ]
  },
  {
   "cell_type": "code",
   "execution_count": 5,
   "metadata": {},
   "outputs": [],
   "source": [
    "# Importing Gensim\n",
    "import gensim\n",
    "from gensim import corpora"
   ]
  },
  {
   "cell_type": "code",
   "execution_count": 6,
   "metadata": {},
   "outputs": [],
   "source": [
    "# Creating the term dictionary of our courpus, \n",
    "#where every unique term is assigned an index. \n",
    "\n",
    "dictionary = corpora.Dictionary(doc_clean)"
   ]
  },
  {
   "cell_type": "code",
   "execution_count": 7,
   "metadata": {},
   "outputs": [
    {
     "name": "stdout",
     "output_type": "stream",
     "text": [
      "[(0, 'bad'), (1, 'consum'), (2, 'father'), (3, 'like'), (4, 'sister'), (5, 'sugar'), (6, 'around'), (7, 'danc'), (8, 'drive'), (9, 'lot'), (10, 'practic'), (11, 'spend'), (12, 'time'), (13, 'blood'), (14, 'caus'), (15, 'doctor'), (16, 'increas'), (17, 'may'), (18, 'pressur'), (19, 'stress'), (20, 'suggest'), (21, 'better'), (22, 'feel'), (23, 'never'), (24, 'perform'), (25, 'school'), (26, 'seem'), (27, 'sometim'), (28, 'well'), (29, 'expert'), (30, 'good'), (31, 'health'), (32, 'lifestyl'), (33, 'say')]\n"
     ]
    }
   ],
   "source": [
    "#Get the BOW\n",
    "print(list(dictionary.items()))"
   ]
  },
  {
   "cell_type": "code",
   "execution_count": 8,
   "metadata": {},
   "outputs": [],
   "source": [
    "# Converting list of documents (corpus) \n",
    "#into Document Term Matrix using dictionary prepared above.\n",
    "doc_term_matrix = [dictionary.doc2bow(doc) for doc in doc_clean]"
   ]
  },
  {
   "cell_type": "code",
   "execution_count": 9,
   "metadata": {},
   "outputs": [
    {
     "name": "stdout",
     "output_type": "stream",
     "text": [
      "[[(0, 1), (1, 1), (2, 1), (3, 1), (4, 1), (5, 2)], [(2, 1), (4, 1), (6, 1), (7, 1), (8, 1), (9, 1), (10, 1), (11, 1), (12, 1)], [(8, 1), (13, 1), (14, 1), (15, 1), (16, 1), (17, 1), (18, 1), (19, 1), (20, 1)], [(2, 1), (4, 1), (8, 1), (18, 1), (21, 1), (22, 1), (23, 1), (24, 1), (25, 1), (26, 1), (27, 1), (28, 1)], [(5, 1), (29, 1), (30, 1), (31, 1), (32, 1), (33, 1)]]\n"
     ]
    }
   ],
   "source": [
    "print(doc_term_matrix)"
   ]
  },
  {
   "cell_type": "code",
   "execution_count": 10,
   "metadata": {},
   "outputs": [
    {
     "data": {
      "text/plain": [
       "[[('bad', 1),\n",
       "  ('consum', 1),\n",
       "  ('father', 1),\n",
       "  ('like', 1),\n",
       "  ('sister', 1),\n",
       "  ('sugar', 2)],\n",
       " [('father', 1),\n",
       "  ('sister', 1),\n",
       "  ('around', 1),\n",
       "  ('danc', 1),\n",
       "  ('drive', 1),\n",
       "  ('lot', 1),\n",
       "  ('practic', 1),\n",
       "  ('spend', 1),\n",
       "  ('time', 1)],\n",
       " [('drive', 1),\n",
       "  ('blood', 1),\n",
       "  ('caus', 1),\n",
       "  ('doctor', 1),\n",
       "  ('increas', 1),\n",
       "  ('may', 1),\n",
       "  ('pressur', 1),\n",
       "  ('stress', 1),\n",
       "  ('suggest', 1)]]"
      ]
     },
     "execution_count": 10,
     "metadata": {},
     "output_type": "execute_result"
    }
   ],
   "source": [
    "[[(dictionary[id],freq) for id,freq in value] \\\n",
    " for value in doc_term_matrix[:3]]"
   ]
  },
  {
   "cell_type": "code",
   "execution_count": 11,
   "metadata": {},
   "outputs": [],
   "source": [
    "#importing the LDA model\n",
    "from gensim.models.ldamodel import LdaModel\n",
    "\n",
    "# Running and Trainign LDA model on the document term matrix.\n",
    "ldamodel = LdaModel(doc_term_matrix, num_topics=2, id2word = dictionary,\n",
    "                    passes=50, \n",
    "                    random_state=42)"
   ]
  },
  {
   "cell_type": "code",
   "execution_count": 12,
   "metadata": {},
   "outputs": [
    {
     "data": {
      "text/plain": [
       "[(0,\n",
       "  '0.083*\"sugar\" + 0.060*\"sister\" + 0.060*\"father\" + 0.036*\"seem\" + 0.036*\"well\" + 0.036*\"sometim\" + 0.036*\"school\" + 0.036*\"perform\" + 0.036*\"never\" + 0.036*\"feel\" + 0.036*\"better\" + 0.036*\"bad\" + 0.036*\"consum\" + 0.036*\"like\" + 0.036*\"good\" + 0.036*\"expert\" + 0.036*\"say\" + 0.036*\"lifestyl\" + 0.036*\"health\" + 0.036*\"pressur\" + 0.035*\"drive\" + 0.012*\"time\" + 0.012*\"spend\" + 0.012*\"danc\" + 0.012*\"practic\" + 0.012*\"around\" + 0.012*\"lot\" + 0.012*\"suggest\" + 0.012*\"may\" + 0.012*\"caus\" + 0.012*\"doctor\" + 0.012*\"blood\" + 0.012*\"increas\" + 0.012*\"stress\"'),\n",
       " (1,\n",
       "  '0.072*\"drive\" + 0.043*\"pressur\" + 0.043*\"increas\" + 0.043*\"may\" + 0.043*\"doctor\" + 0.043*\"caus\" + 0.043*\"blood\" + 0.043*\"stress\" + 0.043*\"suggest\" + 0.043*\"around\" + 0.043*\"practic\" + 0.043*\"spend\" + 0.043*\"danc\" + 0.043*\"lot\" + 0.043*\"time\" + 0.042*\"father\" + 0.042*\"sister\" + 0.014*\"good\" + 0.014*\"health\" + 0.014*\"expert\" + 0.014*\"say\" + 0.014*\"lifestyl\" + 0.014*\"sugar\" + 0.014*\"consum\" + 0.014*\"bad\" + 0.014*\"like\" + 0.014*\"better\" + 0.014*\"feel\" + 0.014*\"school\" + 0.014*\"sometim\" + 0.014*\"well\" + 0.014*\"never\" + 0.014*\"perform\" + 0.014*\"seem\"')]"
      ]
     },
     "execution_count": 12,
     "metadata": {},
     "output_type": "execute_result"
    }
   ],
   "source": [
    "ldamodel.print_topics(num_words=50)"
   ]
  },
  {
   "cell_type": "code",
   "execution_count": 13,
   "metadata": {},
   "outputs": [
    {
     "data": {
      "text/plain": [
       "[(5, 0.08331017),\n",
       " (4, 0.059885785),\n",
       " (2, 0.059885763),\n",
       " (26, 0.035673775),\n",
       " (28, 0.03567377),\n",
       " (22, 0.03567377),\n",
       " (23, 0.03567377),\n",
       " (24, 0.03567377),\n",
       " (25, 0.03567377),\n",
       " (27, 0.03567377),\n",
       " (21, 0.035673767),\n",
       " (3, 0.035650667),\n",
       " (0, 0.035650667),\n",
       " (1, 0.035650667),\n",
       " (29, 0.035644885),\n",
       " (30, 0.035644885),\n",
       " (32, 0.035644885),\n",
       " (33, 0.035644885),\n",
       " (31, 0.03564488),\n",
       " (18, 0.03556915)]"
      ]
     },
     "execution_count": 13,
     "metadata": {},
     "output_type": "execute_result"
    }
   ],
   "source": [
    "topn = [topic for topic in ldamodel.get_topic_terms(topicid=0, topn=20)]\n",
    "topn"
   ]
  },
  {
   "cell_type": "code",
   "execution_count": 14,
   "metadata": {},
   "outputs": [
    {
     "data": {
      "text/plain": [
       "[('sugar', 0.08331017),\n",
       " ('sister', 0.059885785),\n",
       " ('father', 0.059885763),\n",
       " ('seem', 0.035673775),\n",
       " ('well', 0.03567377),\n",
       " ('feel', 0.03567377),\n",
       " ('never', 0.03567377),\n",
       " ('perform', 0.03567377),\n",
       " ('school', 0.03567377),\n",
       " ('sometim', 0.03567377),\n",
       " ('better', 0.035673767),\n",
       " ('like', 0.035650667),\n",
       " ('bad', 0.035650667),\n",
       " ('consum', 0.035650667),\n",
       " ('expert', 0.035644885),\n",
       " ('good', 0.035644885),\n",
       " ('lifestyl', 0.035644885),\n",
       " ('say', 0.035644885),\n",
       " ('health', 0.03564488),\n",
       " ('pressur', 0.03556915)]"
      ]
     },
     "execution_count": 14,
     "metadata": {},
     "output_type": "execute_result"
    }
   ],
   "source": [
    "[(dictionary[id],prob) for id,prob in topn]"
   ]
  },
  {
   "cell_type": "code",
   "execution_count": 15,
   "metadata": {},
   "outputs": [
    {
     "data": {
      "text/plain": [
       "[(0, 0.9252513), (1, 0.07474871)]"
      ]
     },
     "execution_count": 15,
     "metadata": {},
     "output_type": "execute_result"
    }
   ],
   "source": [
    "#To get the topic distribution in each document\n",
    "ldamodel.get_document_topics(doc_term_matrix[4])"
   ]
  },
  {
   "cell_type": "code",
   "execution_count": null,
   "metadata": {},
   "outputs": [],
   "source": []
  }
 ],
 "metadata": {
  "kernelspec": {
   "display_name": "Python 3",
   "language": "python",
   "name": "python3"
  },
  "language_info": {
   "codemirror_mode": {
    "name": "ipython",
    "version": 3
   },
   "file_extension": ".py",
   "mimetype": "text/x-python",
   "name": "python",
   "nbconvert_exporter": "python",
   "pygments_lexer": "ipython3",
   "version": "3.7.3"
  }
 },
 "nbformat": 4,
 "nbformat_minor": 2
}
