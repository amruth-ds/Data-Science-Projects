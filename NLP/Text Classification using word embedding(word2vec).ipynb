{
 "cells": [
  {
   "cell_type": "code",
   "execution_count": 30,
   "metadata": {},
   "outputs": [],
   "source": [
    "import numpy as np \n",
    "import pandas as pd \n",
    "import nltk\n",
    "from nltk.corpus import stopwords\n",
    "import gensim\n",
    "import string"
   ]
  },
  {
   "cell_type": "code",
   "execution_count": 31,
   "metadata": {
    "scrolled": true
   },
   "outputs": [],
   "source": [
    "df = pd.read_csv('imdb_sentiment.csv')"
   ]
  },
  {
   "cell_type": "markdown",
   "metadata": {},
   "source": [
    "### Load Google's Pretrained model\n",
    "- Download: https://drive.google.com/file/d/0B7XkCwpI5KDYNlNUTTlSS21pQmM/edit\n",
    "- Size: 1.5GB"
   ]
  },
  {
   "cell_type": "code",
   "execution_count": 4,
   "metadata": {},
   "outputs": [],
   "source": [
    "google_model = '..//word2vec//GoogleNews-vectors-negative300.bin.gz' \n",
    "embeddings = gensim.models.KeyedVectors.load_word2vec_format(google_model,\n",
    "                                                        binary=True)"
   ]
  },
  {
   "cell_type": "code",
   "execution_count": 32,
   "metadata": {
    "scrolled": true
   },
   "outputs": [
    {
     "data": {
      "text/plain": [
       "(300,)"
      ]
     },
     "execution_count": 32,
     "metadata": {},
     "output_type": "execute_result"
    }
   ],
   "source": [
    "embeddings['google'].shape"
   ]
  },
  {
   "cell_type": "code",
   "execution_count": 33,
   "metadata": {},
   "outputs": [
    {
     "data": {
      "text/html": [
       "<div>\n",
       "<style scoped>\n",
       "    .dataframe tbody tr th:only-of-type {\n",
       "        vertical-align: middle;\n",
       "    }\n",
       "\n",
       "    .dataframe tbody tr th {\n",
       "        vertical-align: top;\n",
       "    }\n",
       "\n",
       "    .dataframe thead th {\n",
       "        text-align: right;\n",
       "    }\n",
       "</style>\n",
       "<table border=\"1\" class=\"dataframe\">\n",
       "  <thead>\n",
       "    <tr style=\"text-align: right;\">\n",
       "      <th></th>\n",
       "      <th>review</th>\n",
       "      <th>sentiment</th>\n",
       "    </tr>\n",
       "  </thead>\n",
       "  <tbody>\n",
       "    <tr>\n",
       "      <th>0</th>\n",
       "      <td>A very, very, very slow-moving, aimless movie ...</td>\n",
       "      <td>0</td>\n",
       "    </tr>\n",
       "    <tr>\n",
       "      <th>1</th>\n",
       "      <td>Not sure who was more lost - the flat characte...</td>\n",
       "      <td>0</td>\n",
       "    </tr>\n",
       "    <tr>\n",
       "      <th>2</th>\n",
       "      <td>Attempting artiness with black &amp; white and cle...</td>\n",
       "      <td>0</td>\n",
       "    </tr>\n",
       "    <tr>\n",
       "      <th>3</th>\n",
       "      <td>Very little music or anything to speak of.</td>\n",
       "      <td>0</td>\n",
       "    </tr>\n",
       "    <tr>\n",
       "      <th>4</th>\n",
       "      <td>The best scene in the movie was when Gerardo i...</td>\n",
       "      <td>1</td>\n",
       "    </tr>\n",
       "  </tbody>\n",
       "</table>\n",
       "</div>"
      ],
      "text/plain": [
       "                                              review  sentiment\n",
       "0  A very, very, very slow-moving, aimless movie ...          0\n",
       "1  Not sure who was more lost - the flat characte...          0\n",
       "2  Attempting artiness with black & white and cle...          0\n",
       "3       Very little music or anything to speak of.            0\n",
       "4  The best scene in the movie was when Gerardo i...          1"
      ]
     },
     "execution_count": 33,
     "metadata": {},
     "output_type": "execute_result"
    }
   ],
   "source": [
    "df.head(5)"
   ]
  },
  {
   "cell_type": "code",
   "execution_count": 24,
   "metadata": {},
   "outputs": [
    {
     "data": {
      "text/plain": [
       "(745, 2)"
      ]
     },
     "execution_count": 24,
     "metadata": {},
     "output_type": "execute_result"
    }
   ],
   "source": [
    "df.shape"
   ]
  },
  {
   "cell_type": "code",
   "execution_count": 25,
   "metadata": {},
   "outputs": [
    {
     "data": {
      "text/plain": [
       "Index(['review', 'sentiment'], dtype='object')"
      ]
     },
     "execution_count": 25,
     "metadata": {},
     "output_type": "execute_result"
    }
   ],
   "source": [
    "df.columns"
   ]
  },
  {
   "cell_type": "code",
   "execution_count": 35,
   "metadata": {},
   "outputs": [],
   "source": [
    "df.drop_duplicates(inplace = True)"
   ]
  },
  {
   "cell_type": "code",
   "execution_count": 36,
   "metadata": {},
   "outputs": [
    {
     "data": {
      "text/plain": [
       "(745, 2)"
      ]
     },
     "execution_count": 36,
     "metadata": {},
     "output_type": "execute_result"
    }
   ],
   "source": [
    "df.shape"
   ]
  },
  {
   "cell_type": "code",
   "execution_count": 28,
   "metadata": {},
   "outputs": [
    {
     "data": {
      "text/plain": [
       "review       0\n",
       "sentiment    0\n",
       "dtype: int64"
      ]
     },
     "execution_count": 28,
     "metadata": {},
     "output_type": "execute_result"
    }
   ],
   "source": [
    "df.isnull().sum()"
   ]
  },
  {
   "cell_type": "code",
   "execution_count": 37,
   "metadata": {},
   "outputs": [],
   "source": [
    "from string import punctuation\n",
    "from nltk.corpus import stopwords\n",
    "from nltk import word_tokenize\n",
    "import re"
   ]
  },
  {
   "cell_type": "code",
   "execution_count": 41,
   "metadata": {},
   "outputs": [],
   "source": [
    "import re\n",
    "def clean_txt(sent):\n",
    "    tokens = word_tokenize(re.sub('[^a-z ]',' ',sent.lower()))\n",
    "    stop_updated = stopwords.words(\"english\") + list(punctuation) +\\\n",
    "    [\"...\"] + \\\n",
    "    [\"would\", \"could\",\"told\",\"subject\"]\n",
    "    text = [term for term in tokens if term not in stop_updated and\n",
    "            len(term) > 2] \n",
    "    res = \" \".join(text)\n",
    "    return res"
   ]
  },
  {
   "cell_type": "code",
   "execution_count": 54,
   "metadata": {},
   "outputs": [],
   "source": [
    "df['clean_review'] = df.review.apply(clean_txt)"
   ]
  },
  {
   "cell_type": "code",
   "execution_count": 55,
   "metadata": {},
   "outputs": [
    {
     "data": {
      "text/html": [
       "<div>\n",
       "<style scoped>\n",
       "    .dataframe tbody tr th:only-of-type {\n",
       "        vertical-align: middle;\n",
       "    }\n",
       "\n",
       "    .dataframe tbody tr th {\n",
       "        vertical-align: top;\n",
       "    }\n",
       "\n",
       "    .dataframe thead th {\n",
       "        text-align: right;\n",
       "    }\n",
       "</style>\n",
       "<table border=\"1\" class=\"dataframe\">\n",
       "  <thead>\n",
       "    <tr style=\"text-align: right;\">\n",
       "      <th></th>\n",
       "      <th>review</th>\n",
       "      <th>sentiment</th>\n",
       "      <th>clean_review</th>\n",
       "    </tr>\n",
       "  </thead>\n",
       "  <tbody>\n",
       "    <tr>\n",
       "      <th>0</th>\n",
       "      <td>A very, very, very slow-moving, aimless movie ...</td>\n",
       "      <td>0</td>\n",
       "      <td>slow moving aimless movie distressed drifting ...</td>\n",
       "    </tr>\n",
       "    <tr>\n",
       "      <th>1</th>\n",
       "      <td>Not sure who was more lost - the flat characte...</td>\n",
       "      <td>0</td>\n",
       "      <td>sure lost flat characters audience nearly half...</td>\n",
       "    </tr>\n",
       "    <tr>\n",
       "      <th>2</th>\n",
       "      <td>Attempting artiness with black &amp; white and cle...</td>\n",
       "      <td>0</td>\n",
       "      <td>attempting artiness black white clever camera ...</td>\n",
       "    </tr>\n",
       "    <tr>\n",
       "      <th>3</th>\n",
       "      <td>Very little music or anything to speak of.</td>\n",
       "      <td>0</td>\n",
       "      <td>little music anything speak</td>\n",
       "    </tr>\n",
       "    <tr>\n",
       "      <th>4</th>\n",
       "      <td>The best scene in the movie was when Gerardo i...</td>\n",
       "      <td>1</td>\n",
       "      <td>best scene movie gerardo trying find song keep...</td>\n",
       "    </tr>\n",
       "  </tbody>\n",
       "</table>\n",
       "</div>"
      ],
      "text/plain": [
       "                                              review  sentiment  \\\n",
       "0  A very, very, very slow-moving, aimless movie ...          0   \n",
       "1  Not sure who was more lost - the flat characte...          0   \n",
       "2  Attempting artiness with black & white and cle...          0   \n",
       "3       Very little music or anything to speak of.            0   \n",
       "4  The best scene in the movie was when Gerardo i...          1   \n",
       "\n",
       "                                        clean_review  \n",
       "0  slow moving aimless movie distressed drifting ...  \n",
       "1  sure lost flat characters audience nearly half...  \n",
       "2  attempting artiness black white clever camera ...  \n",
       "3                        little music anything speak  \n",
       "4  best scene movie gerardo trying find song keep...  "
      ]
     },
     "execution_count": 55,
     "metadata": {},
     "output_type": "execute_result"
    }
   ],
   "source": [
    "df.head()"
   ]
  },
  {
   "cell_type": "markdown",
   "metadata": {},
   "source": [
    "## Create document vectors using word embeddings"
   ]
  },
  {
   "cell_type": "code",
   "execution_count": 98,
   "metadata": {},
   "outputs": [],
   "source": [
    "docs_vectors = pd.DataFrame()\n",
    "for doc in df.clean_review:\n",
    "    temp = pd.DataFrame()\n",
    "    words = doc.split(' ')\n",
    "    for word in words:\n",
    "        try:\n",
    "            word2vec = embeddings[word]\n",
    "            temp = temp.append(pd.Series(word2vec),ignore_index=True)\n",
    "        except:\n",
    "            pass\n",
    "    doc_vector = temp.mean()\n",
    "    docs_vectors = docs_vectors.append(doc_vector,ignore_index=True)"
   ]
  },
  {
   "cell_type": "code",
   "execution_count": 99,
   "metadata": {},
   "outputs": [
    {
     "data": {
      "text/html": [
       "<div>\n",
       "<style scoped>\n",
       "    .dataframe tbody tr th:only-of-type {\n",
       "        vertical-align: middle;\n",
       "    }\n",
       "\n",
       "    .dataframe tbody tr th {\n",
       "        vertical-align: top;\n",
       "    }\n",
       "\n",
       "    .dataframe thead th {\n",
       "        text-align: right;\n",
       "    }\n",
       "</style>\n",
       "<table border=\"1\" class=\"dataframe\">\n",
       "  <thead>\n",
       "    <tr style=\"text-align: right;\">\n",
       "      <th></th>\n",
       "      <th>0</th>\n",
       "      <th>1</th>\n",
       "      <th>2</th>\n",
       "      <th>3</th>\n",
       "      <th>4</th>\n",
       "      <th>5</th>\n",
       "      <th>6</th>\n",
       "      <th>7</th>\n",
       "      <th>8</th>\n",
       "      <th>9</th>\n",
       "      <th>...</th>\n",
       "      <th>290</th>\n",
       "      <th>291</th>\n",
       "      <th>292</th>\n",
       "      <th>293</th>\n",
       "      <th>294</th>\n",
       "      <th>295</th>\n",
       "      <th>296</th>\n",
       "      <th>297</th>\n",
       "      <th>298</th>\n",
       "      <th>299</th>\n",
       "    </tr>\n",
       "  </thead>\n",
       "  <tbody>\n",
       "    <tr>\n",
       "      <th>0</th>\n",
       "      <td>0.158325</td>\n",
       "      <td>0.205505</td>\n",
       "      <td>-0.087540</td>\n",
       "      <td>0.064842</td>\n",
       "      <td>-0.106415</td>\n",
       "      <td>0.008987</td>\n",
       "      <td>-0.062489</td>\n",
       "      <td>0.000954</td>\n",
       "      <td>0.057213</td>\n",
       "      <td>0.050742</td>\n",
       "      <td>...</td>\n",
       "      <td>-0.106262</td>\n",
       "      <td>0.061035</td>\n",
       "      <td>-0.097076</td>\n",
       "      <td>-0.020645</td>\n",
       "      <td>-0.056183</td>\n",
       "      <td>0.068665</td>\n",
       "      <td>0.088745</td>\n",
       "      <td>0.022263</td>\n",
       "      <td>0.062592</td>\n",
       "      <td>0.040619</td>\n",
       "    </tr>\n",
       "    <tr>\n",
       "      <th>1</th>\n",
       "      <td>0.143494</td>\n",
       "      <td>-0.017984</td>\n",
       "      <td>-0.009964</td>\n",
       "      <td>0.106308</td>\n",
       "      <td>-0.052292</td>\n",
       "      <td>-0.075745</td>\n",
       "      <td>-0.015942</td>\n",
       "      <td>-0.037323</td>\n",
       "      <td>0.114197</td>\n",
       "      <td>0.029335</td>\n",
       "      <td>...</td>\n",
       "      <td>-0.080658</td>\n",
       "      <td>0.051147</td>\n",
       "      <td>-0.152344</td>\n",
       "      <td>-0.048691</td>\n",
       "      <td>-0.065536</td>\n",
       "      <td>-0.029953</td>\n",
       "      <td>0.032959</td>\n",
       "      <td>-0.053650</td>\n",
       "      <td>0.021364</td>\n",
       "      <td>-0.096176</td>\n",
       "    </tr>\n",
       "    <tr>\n",
       "      <th>2</th>\n",
       "      <td>0.103201</td>\n",
       "      <td>0.049657</td>\n",
       "      <td>-0.001230</td>\n",
       "      <td>0.012548</td>\n",
       "      <td>-0.097672</td>\n",
       "      <td>-0.008192</td>\n",
       "      <td>0.047252</td>\n",
       "      <td>0.028645</td>\n",
       "      <td>0.043961</td>\n",
       "      <td>0.026582</td>\n",
       "      <td>...</td>\n",
       "      <td>-0.127988</td>\n",
       "      <td>0.071552</td>\n",
       "      <td>-0.118704</td>\n",
       "      <td>0.033023</td>\n",
       "      <td>-0.079702</td>\n",
       "      <td>-0.009722</td>\n",
       "      <td>0.041518</td>\n",
       "      <td>-0.037813</td>\n",
       "      <td>0.016389</td>\n",
       "      <td>0.021890</td>\n",
       "    </tr>\n",
       "    <tr>\n",
       "      <th>3</th>\n",
       "      <td>0.070648</td>\n",
       "      <td>-0.059143</td>\n",
       "      <td>-0.003357</td>\n",
       "      <td>0.084737</td>\n",
       "      <td>-0.092316</td>\n",
       "      <td>0.107788</td>\n",
       "      <td>0.156372</td>\n",
       "      <td>-0.170471</td>\n",
       "      <td>0.006287</td>\n",
       "      <td>-0.007477</td>\n",
       "      <td>...</td>\n",
       "      <td>-0.052734</td>\n",
       "      <td>0.080322</td>\n",
       "      <td>-0.023529</td>\n",
       "      <td>0.030060</td>\n",
       "      <td>-0.011902</td>\n",
       "      <td>-0.059326</td>\n",
       "      <td>0.144897</td>\n",
       "      <td>-0.071167</td>\n",
       "      <td>0.074524</td>\n",
       "      <td>-0.052612</td>\n",
       "    </tr>\n",
       "    <tr>\n",
       "      <th>4</th>\n",
       "      <td>0.120809</td>\n",
       "      <td>0.007568</td>\n",
       "      <td>0.040127</td>\n",
       "      <td>0.048381</td>\n",
       "      <td>-0.056264</td>\n",
       "      <td>0.004886</td>\n",
       "      <td>0.024143</td>\n",
       "      <td>-0.053096</td>\n",
       "      <td>0.066806</td>\n",
       "      <td>-0.012214</td>\n",
       "      <td>...</td>\n",
       "      <td>-0.098731</td>\n",
       "      <td>0.089857</td>\n",
       "      <td>-0.140744</td>\n",
       "      <td>0.013428</td>\n",
       "      <td>-0.042019</td>\n",
       "      <td>-0.015290</td>\n",
       "      <td>0.079617</td>\n",
       "      <td>0.000027</td>\n",
       "      <td>0.037869</td>\n",
       "      <td>0.076067</td>\n",
       "    </tr>\n",
       "  </tbody>\n",
       "</table>\n",
       "<p>5 rows × 300 columns</p>\n",
       "</div>"
      ],
      "text/plain": [
       "        0         1         2         3         4         5         6    \\\n",
       "0  0.158325  0.205505 -0.087540  0.064842 -0.106415  0.008987 -0.062489   \n",
       "1  0.143494 -0.017984 -0.009964  0.106308 -0.052292 -0.075745 -0.015942   \n",
       "2  0.103201  0.049657 -0.001230  0.012548 -0.097672 -0.008192  0.047252   \n",
       "3  0.070648 -0.059143 -0.003357  0.084737 -0.092316  0.107788  0.156372   \n",
       "4  0.120809  0.007568  0.040127  0.048381 -0.056264  0.004886  0.024143   \n",
       "\n",
       "        7         8         9    ...       290       291       292       293  \\\n",
       "0  0.000954  0.057213  0.050742  ... -0.106262  0.061035 -0.097076 -0.020645   \n",
       "1 -0.037323  0.114197  0.029335  ... -0.080658  0.051147 -0.152344 -0.048691   \n",
       "2  0.028645  0.043961  0.026582  ... -0.127988  0.071552 -0.118704  0.033023   \n",
       "3 -0.170471  0.006287 -0.007477  ... -0.052734  0.080322 -0.023529  0.030060   \n",
       "4 -0.053096  0.066806 -0.012214  ... -0.098731  0.089857 -0.140744  0.013428   \n",
       "\n",
       "        294       295       296       297       298       299  \n",
       "0 -0.056183  0.068665  0.088745  0.022263  0.062592  0.040619  \n",
       "1 -0.065536 -0.029953  0.032959 -0.053650  0.021364 -0.096176  \n",
       "2 -0.079702 -0.009722  0.041518 -0.037813  0.016389  0.021890  \n",
       "3 -0.011902 -0.059326  0.144897 -0.071167  0.074524 -0.052612  \n",
       "4 -0.042019 -0.015290  0.079617  0.000027  0.037869  0.076067  \n",
       "\n",
       "[5 rows x 300 columns]"
      ]
     },
     "execution_count": 99,
     "metadata": {},
     "output_type": "execute_result"
    }
   ],
   "source": [
    "docs_vectors.head()"
   ]
  },
  {
   "cell_type": "code",
   "execution_count": 84,
   "metadata": {},
   "outputs": [],
   "source": [
    "docs_vectors = docs_vectors.fillna(method='ffill')"
   ]
  },
  {
   "cell_type": "code",
   "execution_count": 92,
   "metadata": {},
   "outputs": [
    {
     "data": {
      "text/plain": [
       "(745, 300)"
      ]
     },
     "execution_count": 92,
     "metadata": {},
     "output_type": "execute_result"
    }
   ],
   "source": [
    "docs_vectors.shape"
   ]
  },
  {
   "cell_type": "code",
   "execution_count": 85,
   "metadata": {},
   "outputs": [],
   "source": [
    "X = docs_vectors\n",
    "y = df.sentiment.values"
   ]
  },
  {
   "cell_type": "code",
   "execution_count": 86,
   "metadata": {},
   "outputs": [],
   "source": [
    "from sklearn.model_selection import train_test_split\n",
    "X_train, X_test, y_train, y_test = train_test_split(X, y, test_size = 0.30, random_state=100)"
   ]
  },
  {
   "cell_type": "markdown",
   "metadata": {},
   "source": [
    "we cannot use naive bayes with word embeddings. \n",
    "word embeddings can be either +ve or -ve and naive bayes cannot take negetive values"
   ]
  },
  {
   "cell_type": "code",
   "execution_count": 87,
   "metadata": {},
   "outputs": [
    {
     "name": "stderr",
     "output_type": "stream",
     "text": [
      "C:\\ProgramData\\Anaconda3\\lib\\site-packages\\sklearn\\linear_model\\logistic.py:433: FutureWarning: Default solver will be changed to 'lbfgs' in 0.22. Specify a solver to silence this warning.\n",
      "  FutureWarning)\n"
     ]
    },
    {
     "data": {
      "text/plain": [
       "LogisticRegression(C=1.0, class_weight=None, dual=False, fit_intercept=True,\n",
       "          intercept_scaling=1, max_iter=100, multi_class='warn',\n",
       "          n_jobs=None, penalty='l2', random_state=None, solver='warn',\n",
       "          tol=0.0001, verbose=0, warm_start=False)"
      ]
     },
     "execution_count": 87,
     "metadata": {},
     "output_type": "execute_result"
    }
   ],
   "source": [
    "from sklearn.linear_model import LogisticRegression \n",
    "classifier = LogisticRegression()\n",
    "classifier.fit(X_train, y_train)"
   ]
  },
  {
   "cell_type": "code",
   "execution_count": 88,
   "metadata": {},
   "outputs": [],
   "source": [
    "y_pred = classifier.predict(X_test)"
   ]
  },
  {
   "cell_type": "code",
   "execution_count": 89,
   "metadata": {},
   "outputs": [],
   "source": [
    "from sklearn.metrics import accuracy_score, confusion_matrix"
   ]
  },
  {
   "cell_type": "code",
   "execution_count": 90,
   "metadata": {},
   "outputs": [
    {
     "data": {
      "text/plain": [
       "0.8482142857142857"
      ]
     },
     "execution_count": 90,
     "metadata": {},
     "output_type": "execute_result"
    }
   ],
   "source": [
    "accuracy_score(y_test,y_pred)"
   ]
  },
  {
   "cell_type": "code",
   "execution_count": 91,
   "metadata": {},
   "outputs": [
    {
     "data": {
      "text/plain": [
       "array([[102,  17],\n",
       "       [ 17,  88]], dtype=int64)"
      ]
     },
     "execution_count": 91,
     "metadata": {},
     "output_type": "execute_result"
    }
   ],
   "source": [
    "confusion_matrix(y_test,y_pred)"
   ]
  }
 ],
 "metadata": {
  "kernelspec": {
   "display_name": "Python 3",
   "language": "python",
   "name": "python3"
  },
  "language_info": {
   "codemirror_mode": {
    "name": "ipython",
    "version": 3
   },
   "file_extension": ".py",
   "mimetype": "text/x-python",
   "name": "python",
   "nbconvert_exporter": "python",
   "pygments_lexer": "ipython3",
   "version": "3.7.3"
  }
 },
 "nbformat": 4,
 "nbformat_minor": 2
}
