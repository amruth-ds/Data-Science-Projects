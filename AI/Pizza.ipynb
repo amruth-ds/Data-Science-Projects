{
 "cells": [
  {
   "cell_type": "code",
   "execution_count": 1,
   "metadata": {},
   "outputs": [],
   "source": [
    "import tensorflow as tf\n",
    "import pandas as pd\n",
    "import numpy as np\n",
    "import matplotlib.pyplot as plt\n",
    "%matplotlib inline\n",
    "\n",
    "from sklearn.metrics import confusion_matrix\n",
    "from sklearn.metrics import accuracy_score"
   ]
  },
  {
   "cell_type": "code",
   "execution_count": 6,
   "metadata": {},
   "outputs": [],
   "source": [
    "##Import libraries\n",
    "from keras.models import Sequential\n",
    "from keras.layers import Conv2D\n",
    "from keras.layers import MaxPooling2D\n",
    "from keras.layers import Flatten\n",
    "from keras.layers import Dense\n",
    "from keras.layers import Dropout"
   ]
  },
  {
   "cell_type": "code",
   "execution_count": 7,
   "metadata": {},
   "outputs": [],
   "source": [
    "from keras.preprocessing import image"
   ]
  },
  {
   "cell_type": "code",
   "execution_count": 8,
   "metadata": {},
   "outputs": [],
   "source": [
    "## Initialising the CNN\n",
    "classifier = Sequential()"
   ]
  },
  {
   "cell_type": "code",
   "execution_count": 9,
   "metadata": {},
   "outputs": [
    {
     "name": "stderr",
     "output_type": "stream",
     "text": [
      "C:\\Users\\Amruth PC\\Anaconda3\\envs\\tensorflow_env\\lib\\site-packages\\ipykernel_launcher.py:5: UserWarning: Update your `Dropout` call to the Keras 2 API: `Dropout(rate=0.1)`\n",
      "  \"\"\"\n",
      "C:\\Users\\Amruth PC\\Anaconda3\\envs\\tensorflow_env\\lib\\site-packages\\ipykernel_launcher.py:10: UserWarning: Update your `Dropout` call to the Keras 2 API: `Dropout(rate=0.1)`\n",
      "  # Remove the CWD from sys.path while we load stuff.\n"
     ]
    }
   ],
   "source": [
    "## Convolution(64 feature detector of dimension 3 by 3), input shape 3 layer for color image)\n",
    "classifier.add(Conv2D(64,(3,3),input_shape = (64,64,3), activation = 'relu'))\n",
    "## MaxPooling\n",
    "classifier.add(MaxPooling2D(pool_size = (2,2)))\n",
    "classifier.add(Dropout(p = 0.1))\n",
    "\n",
    "## Add another layer\n",
    "classifier.add(Conv2D(64,(3,3), activation = 'relu'))\n",
    "classifier.add(MaxPooling2D(pool_size = (2,2)))\n",
    "classifier.add(Dropout(p = 0.1))\n",
    "\n",
    "## Add another layer\n",
    "classifier.add(Conv2D(64,(3,3), activation = 'relu'))\n",
    "classifier.add(MaxPooling2D(pool_size = (2,2)))\n"
   ]
  },
  {
   "cell_type": "code",
   "execution_count": 10,
   "metadata": {},
   "outputs": [],
   "source": [
    "## Flattening\n",
    "classifier.add(Flatten())"
   ]
  },
  {
   "cell_type": "code",
   "execution_count": 11,
   "metadata": {},
   "outputs": [],
   "source": [
    "## Fully connected ANN, Hidden ANN and output layer\n",
    "classifier.add(Dense(units = 128, activation = 'relu'))\n"
   ]
  },
  {
   "cell_type": "code",
   "execution_count": 12,
   "metadata": {},
   "outputs": [],
   "source": [
    "#output layer\n",
    "classifier.add(Dense(units = 1, activation = 'sigmoid'))"
   ]
  },
  {
   "cell_type": "code",
   "execution_count": 13,
   "metadata": {},
   "outputs": [
    {
     "name": "stdout",
     "output_type": "stream",
     "text": [
      "WARNING:tensorflow:From C:\\Users\\Amruth PC\\Anaconda3\\envs\\tensorflow_env\\lib\\site-packages\\tensorflow_core\\python\\ops\\nn_impl.py:183: where (from tensorflow.python.ops.array_ops) is deprecated and will be removed in a future version.\n",
      "Instructions for updating:\n",
      "Use tf.where in 2.0, which has the same broadcast rule as np.where\n"
     ]
    }
   ],
   "source": [
    "## Compliling\n",
    "classifier.compile(optimizer = 'adam', loss = 'binary_crossentropy', metrics = ['accuracy'])"
   ]
  },
  {
   "cell_type": "code",
   "execution_count": 14,
   "metadata": {},
   "outputs": [
    {
     "name": "stdout",
     "output_type": "stream",
     "text": [
      "Model: \"sequential_2\"\n",
      "_________________________________________________________________\n",
      "Layer (type)                 Output Shape              Param #   \n",
      "=================================================================\n",
      "conv2d_2 (Conv2D)            (None, 62, 62, 64)        1792      \n",
      "_________________________________________________________________\n",
      "max_pooling2d_2 (MaxPooling2 (None, 31, 31, 64)        0         \n",
      "_________________________________________________________________\n",
      "dropout_1 (Dropout)          (None, 31, 31, 64)        0         \n",
      "_________________________________________________________________\n",
      "conv2d_3 (Conv2D)            (None, 29, 29, 64)        36928     \n",
      "_________________________________________________________________\n",
      "max_pooling2d_3 (MaxPooling2 (None, 14, 14, 64)        0         \n",
      "_________________________________________________________________\n",
      "dropout_2 (Dropout)          (None, 14, 14, 64)        0         \n",
      "_________________________________________________________________\n",
      "conv2d_4 (Conv2D)            (None, 12, 12, 64)        36928     \n",
      "_________________________________________________________________\n",
      "max_pooling2d_4 (MaxPooling2 (None, 6, 6, 64)          0         \n",
      "_________________________________________________________________\n",
      "flatten_1 (Flatten)          (None, 2304)              0         \n",
      "_________________________________________________________________\n",
      "dense_1 (Dense)              (None, 128)               295040    \n",
      "_________________________________________________________________\n",
      "dense_2 (Dense)              (None, 1)                 129       \n",
      "=================================================================\n",
      "Total params: 370,817\n",
      "Trainable params: 370,817\n",
      "Non-trainable params: 0\n",
      "_________________________________________________________________\n"
     ]
    }
   ],
   "source": [
    "classifier.summary()"
   ]
  },
  {
   "cell_type": "code",
   "execution_count": 15,
   "metadata": {},
   "outputs": [],
   "source": [
    "## data importing and transforming and scaling\n",
    "from keras.preprocessing.image import ImageDataGenerator\n",
    "train_datagen = ImageDataGenerator(rescale=1./255,shear_range=0.2,zoom_range=0.2,horizontal_flip=True)"
   ]
  },
  {
   "cell_type": "code",
   "execution_count": 16,
   "metadata": {},
   "outputs": [],
   "source": [
    "## Scaling test data\n",
    "##no  data augmentation\n",
    "test_datagen = ImageDataGenerator(rescale=1./255,shear_range=0.2,zoom_range=0.2,horizontal_flip=True)"
   ]
  },
  {
   "cell_type": "code",
   "execution_count": 17,
   "metadata": {},
   "outputs": [
    {
     "name": "stdout",
     "output_type": "stream",
     "text": [
      "Found 2000 images belonging to 2 classes.\n"
     ]
    }
   ],
   "source": [
    "## Importing training data\n",
    "train_set = train_datagen.flow_from_directory('C:/Users/Amruth PC/Desktop/SEM 2/AI/Pizza/train_set',\n",
    "                                               target_size=(64, 64),\n",
    "                                               \n",
    "                                               class_mode='binary')"
   ]
  },
  {
   "cell_type": "code",
   "execution_count": 18,
   "metadata": {},
   "outputs": [
    {
     "data": {
      "text/plain": [
       "{'Burnt_Pizza': 0, 'Good_Pizza': 1}"
      ]
     },
     "execution_count": 18,
     "metadata": {},
     "output_type": "execute_result"
    }
   ],
   "source": [
    "train_set.class_indices"
   ]
  },
  {
   "cell_type": "code",
   "execution_count": 19,
   "metadata": {},
   "outputs": [
    {
     "name": "stdout",
     "output_type": "stream",
     "text": [
      "{'Burnt_Pizza': 0, 'Good_Pizza': 1}\n"
     ]
    }
   ],
   "source": [
    "label_map = (train_set.class_indices)\n",
    "print(label_map)"
   ]
  },
  {
   "cell_type": "code",
   "execution_count": 20,
   "metadata": {},
   "outputs": [
    {
     "name": "stdout",
     "output_type": "stream",
     "text": [
      "Found 100 images belonging to 2 classes.\n"
     ]
    }
   ],
   "source": [
    "from PIL import Image\n",
    "## Importng test data\n",
    "test_set = test_datagen.flow_from_directory('C:/Users/Amruth PC/Desktop/SEM 2/AI/Pizza/test_set',\n",
    "                                            target_size=(64, 64),\n",
    "                                            \n",
    "                                            class_mode='binary')"
   ]
  },
  {
   "cell_type": "code",
   "execution_count": 21,
   "metadata": {},
   "outputs": [
    {
     "data": {
      "text/plain": [
       "<keras.preprocessing.image.DirectoryIterator at 0x1f9b50916c8>"
      ]
     },
     "execution_count": 21,
     "metadata": {},
     "output_type": "execute_result"
    }
   ],
   "source": [
    "test_set"
   ]
  },
  {
   "cell_type": "code",
   "execution_count": 24,
   "metadata": {},
   "outputs": [
    {
     "name": "stdout",
     "output_type": "stream",
     "text": [
      "Epoch 1/30\n",
      "63/63 [==============================] - 9s 144ms/step - loss: 0.0738 - accuracy: 0.9725 - val_loss: 0.1239 - val_accuracy: 0.8500\n",
      "Epoch 2/30\n",
      "63/63 [==============================] - 10s 158ms/step - loss: 0.0472 - accuracy: 0.9840 - val_loss: 3.2836e-05 - val_accuracy: 0.8000\n",
      "Epoch 3/30\n",
      "63/63 [==============================] - 11s 177ms/step - loss: 0.0339 - accuracy: 0.9875 - val_loss: 4.9800e-04 - val_accuracy: 0.8200\n",
      "Epoch 4/30\n",
      "63/63 [==============================] - 10s 157ms/step - loss: 0.0445 - accuracy: 0.9850 - val_loss: 1.9487 - val_accuracy: 0.8600\n",
      "Epoch 5/30\n",
      "63/63 [==============================] - 10s 163ms/step - loss: 0.0288 - accuracy: 0.9895 - val_loss: 2.2298e-04 - val_accuracy: 0.8400\n",
      "Epoch 6/30\n",
      "63/63 [==============================] - 11s 179ms/step - loss: 0.0487 - accuracy: 0.9800 - val_loss: 2.3176 - val_accuracy: 0.8200\n",
      "Epoch 7/30\n",
      "63/63 [==============================] - 10s 160ms/step - loss: 0.0386 - accuracy: 0.9865 - val_loss: 4.1831 - val_accuracy: 0.8800\n",
      "Epoch 8/30\n",
      "63/63 [==============================] - 10s 157ms/step - loss: 0.0587 - accuracy: 0.9750 - val_loss: 0.0017 - val_accuracy: 0.8400\n",
      "Epoch 9/30\n",
      "63/63 [==============================] - 11s 180ms/step - loss: 0.0444 - accuracy: 0.9850 - val_loss: 3.1584 - val_accuracy: 0.8500\n",
      "Epoch 10/30\n",
      "63/63 [==============================] - 10s 157ms/step - loss: 0.0283 - accuracy: 0.9900 - val_loss: 0.0332 - val_accuracy: 0.8300\n",
      "Epoch 11/30\n",
      "63/63 [==============================] - 10s 164ms/step - loss: 0.0345 - accuracy: 0.9870 - val_loss: 0.0120 - val_accuracy: 0.8700\n",
      "Epoch 12/30\n",
      "63/63 [==============================] - 11s 177ms/step - loss: 0.0238 - accuracy: 0.9930 - val_loss: 3.2832e-05 - val_accuracy: 0.8600\n",
      "Epoch 13/30\n",
      "63/63 [==============================] - 10s 163ms/step - loss: 0.0388 - accuracy: 0.9865 - val_loss: 0.0066 - val_accuracy: 0.8600\n",
      "Epoch 14/30\n",
      "63/63 [==============================] - 10s 163ms/step - loss: 0.0445 - accuracy: 0.9855 - val_loss: 9.6806e-06 - val_accuracy: 0.8500\n",
      "Epoch 15/30\n",
      "63/63 [==============================] - 11s 181ms/step - loss: 0.0359 - accuracy: 0.9885 - val_loss: 0.0682 - val_accuracy: 0.8600\n",
      "Epoch 16/30\n",
      "63/63 [==============================] - 10s 162ms/step - loss: 0.0365 - accuracy: 0.9875 - val_loss: 0.0100 - val_accuracy: 0.8300\n",
      "Epoch 17/30\n",
      "63/63 [==============================] - 10s 162ms/step - loss: 0.0219 - accuracy: 0.9925 - val_loss: 3.3551 - val_accuracy: 0.8400\n",
      "Epoch 18/30\n",
      "63/63 [==============================] - 11s 179ms/step - loss: 0.0286 - accuracy: 0.9890 - val_loss: 3.7360 - val_accuracy: 0.8300\n",
      "Epoch 19/30\n",
      "63/63 [==============================] - 10s 159ms/step - loss: 0.0713 - accuracy: 0.9745 - val_loss: 0.0151 - val_accuracy: 0.8600\n",
      "Epoch 20/30\n",
      "63/63 [==============================] - 11s 180ms/step - loss: 0.0371 - accuracy: 0.9880 - val_loss: 0.0044 - val_accuracy: 0.8400\n",
      "Epoch 21/30\n",
      "63/63 [==============================] - 10s 160ms/step - loss: 0.0307 - accuracy: 0.9880 - val_loss: 0.8680 - val_accuracy: 0.8400\n",
      "Epoch 22/30\n",
      "63/63 [==============================] - 11s 177ms/step - loss: 0.0184 - accuracy: 0.9940 - val_loss: 3.2145 - val_accuracy: 0.8600\n",
      "Epoch 23/30\n",
      "63/63 [==============================] - 10s 166ms/step - loss: 0.0228 - accuracy: 0.9920 - val_loss: 2.6567 - val_accuracy: 0.8300\n",
      "Epoch 24/30\n",
      "63/63 [==============================] - 10s 165ms/step - loss: 0.0535 - accuracy: 0.9820 - val_loss: 0.0054 - val_accuracy: 0.8500\n",
      "Epoch 25/30\n",
      "63/63 [==============================] - 11s 182ms/step - loss: 0.0256 - accuracy: 0.9905 - val_loss: 4.3691 - val_accuracy: 0.8700\n",
      "Epoch 26/30\n",
      "63/63 [==============================] - 11s 171ms/step - loss: 0.0135 - accuracy: 0.9940 - val_loss: 0.0152 - val_accuracy: 0.8400\n",
      "Epoch 27/30\n",
      "63/63 [==============================] - 10s 159ms/step - loss: 0.0303 - accuracy: 0.9890 - val_loss: 6.5858e-04 - val_accuracy: 0.8400\n",
      "Epoch 28/30\n",
      "63/63 [==============================] - 11s 182ms/step - loss: 0.0284 - accuracy: 0.9905 - val_loss: 0.0173 - val_accuracy: 0.8500\n",
      "Epoch 29/30\n",
      "63/63 [==============================] - 13s 201ms/step - loss: 0.0151 - accuracy: 0.9945 - val_loss: 1.5312e-06 - val_accuracy: 0.8700\n",
      "Epoch 30/30\n",
      "63/63 [==============================] - 12s 186ms/step - loss: 0.0144 - accuracy: 0.9950 - val_loss: 0.2515 - val_accuracy: 0.8400\n"
     ]
    },
    {
     "data": {
      "text/plain": [
       "<keras.callbacks.callbacks.History at 0x1f9b5309488>"
      ]
     },
     "execution_count": 24,
     "metadata": {},
     "output_type": "execute_result"
    }
   ],
   "source": [
    "## fitting model to images\n",
    "classifier.fit_generator(\n",
    "        train_set,\n",
    "        epochs=30,\n",
    "        validation_data=test_set\n",
    "        )"
   ]
  },
  {
   "cell_type": "code",
   "execution_count": 25,
   "metadata": {},
   "outputs": [
    {
     "name": "stdout",
     "output_type": "stream",
     "text": [
      "4/4 [==============================] - 0s 55ms/step\n"
     ]
    },
    {
     "data": {
      "text/plain": [
       "[0.0037256767973303795, 0.8799999952316284]"
      ]
     },
     "execution_count": 25,
     "metadata": {},
     "output_type": "execute_result"
    }
   ],
   "source": [
    "classifier.evaluate(test_set)"
   ]
  },
  {
   "cell_type": "code",
   "execution_count": 44,
   "metadata": {},
   "outputs": [],
   "source": [
    "## prediction of single new data\n",
    "import numpy as np\n",
    "from keras.preprocessing import image\n",
    "test_image= image.load_img('C:/Users/Amruth PC/Desktop/SEM 2/AI/Pizza/inference/good2.jpg'\n",
    "                           ,target_size =(64,64))\n"
   ]
  },
  {
   "cell_type": "code",
   "execution_count": 45,
   "metadata": {},
   "outputs": [
    {
     "data": {
      "image/png": "[encoded data removed]",
      "text/plain": [
       "<PIL.Image.Image image mode=RGB size=64x64 at 0x1F9B856B848>"
      ]
     },
     "execution_count": 45,
     "metadata": {},
     "output_type": "execute_result"
    }
   ],
   "source": [
    "test_image"
   ]
  },
  {
   "cell_type": "code",
   "execution_count": 46,
   "metadata": {},
   "outputs": [],
   "source": [
    "## Convert image to array\n",
    "test_image = image.img_to_array(test_image)"
   ]
  },
  {
   "cell_type": "code",
   "execution_count": 47,
   "metadata": {},
   "outputs": [],
   "source": [
    "## For single prediction change the dimension . \n",
    "\n",
    "test_image=test_image.reshape(1,64,64,3)"
   ]
  },
  {
   "cell_type": "code",
   "execution_count": 48,
   "metadata": {},
   "outputs": [
    {
     "name": "stdout",
     "output_type": "stream",
     "text": [
      "Not Burnt\n"
     ]
    }
   ],
   "source": [
    "result = classifier.predict(test_image)\n",
    "if(result==0):\n",
    "    print('Burnt')\n",
    "else:\n",
    "    print('Not Burnt')"
   ]
  },
  {
   "cell_type": "code",
   "execution_count": 49,
   "metadata": {},
   "outputs": [
    {
     "data": {
      "text/plain": [
       "array([[1.]], dtype=float32)"
      ]
     },
     "execution_count": 49,
     "metadata": {},
     "output_type": "execute_result"
    }
   ],
   "source": [
    "result"
   ]
  },
  {
   "cell_type": "code",
   "execution_count": null,
   "metadata": {},
   "outputs": [],
   "source": []
  }
 ],
 "metadata": {
  "kernelspec": {
   "display_name": "Python 3",
   "language": "python",
   "name": "python3"
  },
  "language_info": {
   "codemirror_mode": {
    "name": "ipython",
    "version": 3
   },
   "file_extension": ".py",
   "mimetype": "text/x-python",
   "name": "python",
   "nbconvert_exporter": "python",
   "pygments_lexer": "ipython3",
   "version": "3.7.3"
  }
 },
 "nbformat": 4,
 "nbformat_minor": 4
}
