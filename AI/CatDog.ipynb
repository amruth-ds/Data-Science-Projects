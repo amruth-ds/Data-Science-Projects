{
 "cells": [
  {
   "cell_type": "markdown",
   "metadata": {},
   "source": [
    "## Classification demo including training"
   ]
  },
  {
   "cell_type": "code",
   "execution_count": 1,
   "metadata": {},
   "outputs": [
    {
     "name": "stderr",
     "output_type": "stream",
     "text": [
      "Using TensorFlow backend.\n"
     ]
    }
   ],
   "source": [
    "##Import libraries\n",
    "from keras.models import Sequential\n",
    "from keras.layers import Conv2D\n",
    "from keras.layers import MaxPooling2D\n",
    "from keras.layers import Flatten\n",
    "from keras.layers import Dense"
   ]
  },
  {
   "cell_type": "code",
   "execution_count": 2,
   "metadata": {},
   "outputs": [],
   "source": [
    "## Initialising the CNN\n",
    "classifier = Sequential()"
   ]
  },
  {
   "cell_type": "code",
   "execution_count": 3,
   "metadata": {},
   "outputs": [
    {
     "name": "stdout",
     "output_type": "stream",
     "text": [
      "WARNING:tensorflow:From C:\\Users\\Amruth PC\\Anaconda3\\envs\\tensorflow_env\\lib\\site-packages\\tensorflow_core\\python\\ops\\resource_variable_ops.py:1630: calling BaseResourceVariable.__init__ (from tensorflow.python.ops.resource_variable_ops) with constraint is deprecated and will be removed in a future version.\n",
      "Instructions for updating:\n",
      "If using Keras pass *_constraint arguments to layers.\n",
      "WARNING:tensorflow:From C:\\Users\\Amruth PC\\Anaconda3\\envs\\tensorflow_env\\lib\\site-packages\\keras\\backend\\tensorflow_backend.py:4070: The name tf.nn.max_pool is deprecated. Please use tf.nn.max_pool2d instead.\n",
      "\n"
     ]
    }
   ],
   "source": [
    "## Convolution(64 feature detector of dimension 3 by 3), input shape 3 layer for color image)\n",
    "classifier.add(Conv2D(64,(3,3),input_shape = (64,64,3), activation = 'relu'))\n",
    "## MaxPooling\n",
    "classifier.add(MaxPooling2D(pool_size = (2,2)))\n",
    "\n",
    "## Add another layer\n",
    "classifier.add(Conv2D(64,(3,3), activation = 'relu'))\n",
    "classifier.add(MaxPooling2D(pool_size = (2,2)))\n",
    "\n",
    "## Add another layer\n",
    "classifier.add(Conv2D(64,(3,3), activation = 'relu'))\n",
    "classifier.add(MaxPooling2D(pool_size = (2,2)))\n"
   ]
  },
  {
   "cell_type": "code",
   "execution_count": 4,
   "metadata": {},
   "outputs": [],
   "source": [
    "## Flattening\n",
    "classifier.add(Flatten())"
   ]
  },
  {
   "cell_type": "code",
   "execution_count": 5,
   "metadata": {},
   "outputs": [],
   "source": [
    "## Fully connected ANN, Hidden ANN and output layer\n",
    "classifier.add(Dense(units = 128, activation = 'relu'))\n"
   ]
  },
  {
   "cell_type": "code",
   "execution_count": 6,
   "metadata": {},
   "outputs": [],
   "source": [
    "#output layer\n",
    "classifier.add(Dense(units = 1, activation = 'sigmoid'))"
   ]
  },
  {
   "cell_type": "code",
   "execution_count": 7,
   "metadata": {},
   "outputs": [
    {
     "name": "stdout",
     "output_type": "stream",
     "text": [
      "WARNING:tensorflow:From C:\\Users\\Amruth PC\\Anaconda3\\envs\\tensorflow_env\\lib\\site-packages\\tensorflow_core\\python\\ops\\nn_impl.py:183: where (from tensorflow.python.ops.array_ops) is deprecated and will be removed in a future version.\n",
      "Instructions for updating:\n",
      "Use tf.where in 2.0, which has the same broadcast rule as np.where\n"
     ]
    }
   ],
   "source": [
    "## Compliling\n",
    "classifier.compile(optimizer = 'adam', loss = 'binary_crossentropy', metrics = ['accuracy'])"
   ]
  },
  {
   "cell_type": "code",
   "execution_count": 8,
   "metadata": {},
   "outputs": [
    {
     "name": "stdout",
     "output_type": "stream",
     "text": [
      "Model: \"sequential_1\"\n",
      "_________________________________________________________________\n",
      "Layer (type)                 Output Shape              Param #   \n",
      "=================================================================\n",
      "conv2d_1 (Conv2D)            (None, 62, 62, 64)        1792      \n",
      "_________________________________________________________________\n",
      "max_pooling2d_1 (MaxPooling2 (None, 31, 31, 64)        0         \n",
      "_________________________________________________________________\n",
      "conv2d_2 (Conv2D)            (None, 29, 29, 64)        36928     \n",
      "_________________________________________________________________\n",
      "max_pooling2d_2 (MaxPooling2 (None, 14, 14, 64)        0         \n",
      "_________________________________________________________________\n",
      "conv2d_3 (Conv2D)            (None, 12, 12, 64)        36928     \n",
      "_________________________________________________________________\n",
      "max_pooling2d_3 (MaxPooling2 (None, 6, 6, 64)          0         \n",
      "_________________________________________________________________\n",
      "flatten_1 (Flatten)          (None, 2304)              0         \n",
      "_________________________________________________________________\n",
      "dense_1 (Dense)              (None, 128)               295040    \n",
      "_________________________________________________________________\n",
      "dense_2 (Dense)              (None, 1)                 129       \n",
      "=================================================================\n",
      "Total params: 370,817\n",
      "Trainable params: 370,817\n",
      "Non-trainable params: 0\n",
      "_________________________________________________________________\n"
     ]
    }
   ],
   "source": [
    "classifier.summary()"
   ]
  },
  {
   "cell_type": "markdown",
   "metadata": {},
   "source": [
    "## data importing and transforming and scaling\n",
    "from keras.preprocessing.image import ImageDataGenerator\n",
    "train_datagen = ImageDataGenerator(\n",
    "        rescale=1./255,\n",
    "        shear_range=0.2,\n",
    "        zoom_range=0.2,\n",
    "        horizontal_flip=True)"
   ]
  },
  {
   "cell_type": "code",
   "execution_count": 9,
   "metadata": {},
   "outputs": [],
   "source": [
    "## data importing and transforming and scaling\n",
    "from keras.preprocessing.image import ImageDataGenerator\n",
    "train_datagen = ImageDataGenerator(rescale=1./255)"
   ]
  },
  {
   "cell_type": "code",
   "execution_count": 10,
   "metadata": {},
   "outputs": [],
   "source": [
    "## Scaling test data\n",
    "##no  data augmentation\n",
    "test_datagen = ImageDataGenerator(rescale=1./255)"
   ]
  },
  {
   "cell_type": "code",
   "execution_count": 11,
   "metadata": {},
   "outputs": [
    {
     "name": "stdout",
     "output_type": "stream",
     "text": [
      "Found 98 images belonging to 2 classes.\n"
     ]
    }
   ],
   "source": [
    "## Importing training data\n",
    "train_set = train_datagen.flow_from_directory('dataset\\\\training_set',\n",
    "                                               target_size=(64, 64),\n",
    "                                               \n",
    "                                               class_mode='binary')"
   ]
  },
  {
   "cell_type": "code",
   "execution_count": 12,
   "metadata": {},
   "outputs": [
    {
     "data": {
      "text/plain": [
       "{'cats': 0, 'dogs': 1}"
      ]
     },
     "execution_count": 12,
     "metadata": {},
     "output_type": "execute_result"
    }
   ],
   "source": [
    "train_set.class_indices"
   ]
  },
  {
   "cell_type": "code",
   "execution_count": 13,
   "metadata": {},
   "outputs": [
    {
     "name": "stdout",
     "output_type": "stream",
     "text": [
      "{'cats': 0, 'dogs': 1}\n"
     ]
    }
   ],
   "source": [
    "#which is cat which is dog?\n",
    "label_map = (train_set.class_indices)\n",
    "print(label_map)"
   ]
  },
  {
   "cell_type": "code",
   "execution_count": 14,
   "metadata": {},
   "outputs": [
    {
     "name": "stdout",
     "output_type": "stream",
     "text": [
      "Found 38 images belonging to 2 classes.\n"
     ]
    }
   ],
   "source": [
    "## Importng test data\n",
    "test_set = test_datagen.flow_from_directory('dataset\\\\test_set',\n",
    "                                            target_size=(64, 64),\n",
    "                                            \n",
    "                                            class_mode='binary')"
   ]
  },
  {
   "cell_type": "code",
   "execution_count": 24,
   "metadata": {},
   "outputs": [
    {
     "name": "stdout",
     "output_type": "stream",
     "text": [
      "Epoch 1/100\n",
      "4/4 [==============================] - 1s 154ms/step - loss: 0.7750 - accuracy: 0.5816 - val_loss: 0.8510 - val_accuracy: 0.5000\n",
      "Epoch 2/100\n",
      "4/4 [==============================] - 1s 144ms/step - loss: 0.6923 - accuracy: 0.5000 - val_loss: 0.7070 - val_accuracy: 0.5000\n",
      "Epoch 3/100\n",
      "4/4 [==============================] - 1s 135ms/step - loss: 0.6922 - accuracy: 0.5714 - val_loss: 0.7153 - val_accuracy: 0.3684\n",
      "Epoch 4/100\n",
      "4/4 [==============================] - 0s 122ms/step - loss: 0.6864 - accuracy: 0.5306 - val_loss: 0.7407 - val_accuracy: 0.5263\n",
      "Epoch 5/100\n",
      "4/4 [==============================] - 0s 117ms/step - loss: 0.6800 - accuracy: 0.5510 - val_loss: 0.6780 - val_accuracy: 0.4474\n",
      "Epoch 6/100\n",
      "4/4 [==============================] - 0s 124ms/step - loss: 0.6682 - accuracy: 0.6020 - val_loss: 0.7200 - val_accuracy: 0.5000\n",
      "Epoch 7/100\n",
      "4/4 [==============================] - 1s 131ms/step - loss: 0.6568 - accuracy: 0.5918 - val_loss: 0.7199 - val_accuracy: 0.5263\n",
      "Epoch 8/100\n",
      "4/4 [==============================] - 0s 120ms/step - loss: 0.6501 - accuracy: 0.7143 - val_loss: 0.6588 - val_accuracy: 0.5000\n",
      "Epoch 9/100\n",
      "4/4 [==============================] - 1s 126ms/step - loss: 0.6155 - accuracy: 0.6020 - val_loss: 0.5260 - val_accuracy: 0.5263\n",
      "Epoch 10/100\n",
      "4/4 [==============================] - 1s 128ms/step - loss: 0.5647 - accuracy: 0.6633 - val_loss: 0.9224 - val_accuracy: 0.5263\n",
      "Epoch 11/100\n",
      "4/4 [==============================] - 1s 129ms/step - loss: 0.6714 - accuracy: 0.7347 - val_loss: 0.7282 - val_accuracy: 0.6842\n",
      "Epoch 12/100\n",
      "4/4 [==============================] - 1s 137ms/step - loss: 0.5722 - accuracy: 0.7449 - val_loss: 0.8339 - val_accuracy: 0.6053\n",
      "Epoch 13/100\n",
      "4/4 [==============================] - 1s 134ms/step - loss: 0.5562 - accuracy: 0.8061 - val_loss: 0.5055 - val_accuracy: 0.5263\n",
      "Epoch 14/100\n",
      "4/4 [==============================] - 1s 135ms/step - loss: 0.5699 - accuracy: 0.7551 - val_loss: 0.6268 - val_accuracy: 0.6053\n",
      "Epoch 15/100\n",
      "4/4 [==============================] - 1s 144ms/step - loss: 0.5177 - accuracy: 0.7449 - val_loss: 1.0696 - val_accuracy: 0.5526\n",
      "Epoch 16/100\n",
      "4/4 [==============================] - 1s 144ms/step - loss: 0.5565 - accuracy: 0.6939 - val_loss: 0.6904 - val_accuracy: 0.5526\n",
      "Epoch 17/100\n",
      "4/4 [==============================] - 1s 130ms/step - loss: 0.5435 - accuracy: 0.7143 - val_loss: 0.8501 - val_accuracy: 0.5789\n",
      "Epoch 18/100\n",
      "4/4 [==============================] - 1s 126ms/step - loss: 0.4976 - accuracy: 0.7755 - val_loss: 0.4118 - val_accuracy: 0.5263\n",
      "Epoch 19/100\n",
      "4/4 [==============================] - 1s 139ms/step - loss: 0.5764 - accuracy: 0.7041 - val_loss: 0.8764 - val_accuracy: 0.4474\n",
      "Epoch 20/100\n",
      "4/4 [==============================] - 1s 137ms/step - loss: 0.5201 - accuracy: 0.7551 - val_loss: 0.7121 - val_accuracy: 0.5263\n",
      "Epoch 21/100\n",
      "4/4 [==============================] - 1s 126ms/step - loss: 0.3662 - accuracy: 0.8571 - val_loss: 0.7236 - val_accuracy: 0.5789\n",
      "Epoch 22/100\n",
      "4/4 [==============================] - 1s 146ms/step - loss: 0.4818 - accuracy: 0.8776 - val_loss: 0.7524 - val_accuracy: 0.5263\n",
      "Epoch 23/100\n",
      "4/4 [==============================] - 1s 130ms/step - loss: 0.3557 - accuracy: 0.8163 - val_loss: 1.1754 - val_accuracy: 0.5526\n",
      "Epoch 24/100\n",
      "4/4 [==============================] - 1s 131ms/step - loss: 0.3617 - accuracy: 0.8980 - val_loss: 0.4700 - val_accuracy: 0.6053\n",
      "Epoch 25/100\n",
      "4/4 [==============================] - 1s 160ms/step - loss: 0.3525 - accuracy: 0.8878 - val_loss: 1.9600 - val_accuracy: 0.6053\n",
      "Epoch 26/100\n",
      "4/4 [==============================] - 1s 135ms/step - loss: 0.2444 - accuracy: 0.8571 - val_loss: 1.4430 - val_accuracy: 0.5263\n",
      "Epoch 27/100\n",
      "4/4 [==============================] - 1s 129ms/step - loss: 0.2738 - accuracy: 0.8776 - val_loss: 1.4162 - val_accuracy: 0.6053\n",
      "Epoch 28/100\n",
      "4/4 [==============================] - 0s 116ms/step - loss: 0.2360 - accuracy: 0.8980 - val_loss: 0.8538 - val_accuracy: 0.6053\n",
      "Epoch 29/100\n",
      "4/4 [==============================] - 0s 123ms/step - loss: 0.1988 - accuracy: 0.8878 - val_loss: 2.3799 - val_accuracy: 0.5789\n",
      "Epoch 30/100\n",
      "4/4 [==============================] - 1s 126ms/step - loss: 0.1245 - accuracy: 0.9490 - val_loss: 0.0654 - val_accuracy: 0.6579\n",
      "Epoch 31/100\n",
      "4/4 [==============================] - 0s 115ms/step - loss: 0.1423 - accuracy: 0.9490 - val_loss: 1.6954 - val_accuracy: 0.5789\n",
      "Epoch 32/100\n",
      "4/4 [==============================] - 1s 128ms/step - loss: 0.0935 - accuracy: 0.9490 - val_loss: 1.7776 - val_accuracy: 0.5263\n",
      "Epoch 33/100\n",
      "4/4 [==============================] - 1s 140ms/step - loss: 0.0711 - accuracy: 0.9592 - val_loss: 3.4297 - val_accuracy: 0.6053\n",
      "Epoch 34/100\n",
      "4/4 [==============================] - 1s 130ms/step - loss: 0.0828 - accuracy: 0.9592 - val_loss: 0.5521 - val_accuracy: 0.5526\n",
      "Epoch 35/100\n",
      "4/4 [==============================] - 1s 139ms/step - loss: 0.0502 - accuracy: 0.9898 - val_loss: 1.7790 - val_accuracy: 0.6316\n",
      "Epoch 36/100\n",
      "4/4 [==============================] - 1s 134ms/step - loss: 0.0432 - accuracy: 1.0000 - val_loss: 0.5293 - val_accuracy: 0.6579\n",
      "Epoch 37/100\n",
      "4/4 [==============================] - 1s 135ms/step - loss: 0.0595 - accuracy: 0.9898 - val_loss: 4.6004 - val_accuracy: 0.6579\n",
      "Epoch 38/100\n",
      "4/4 [==============================] - 1s 143ms/step - loss: 0.0379 - accuracy: 0.9898 - val_loss: 2.0631 - val_accuracy: 0.5263\n",
      "Epoch 39/100\n",
      "4/4 [==============================] - 1s 126ms/step - loss: 0.0294 - accuracy: 0.9898 - val_loss: 2.5265 - val_accuracy: 0.5526\n",
      "Epoch 40/100\n",
      "4/4 [==============================] - 1s 212ms/step - loss: 0.0276 - accuracy: 1.0000 - val_loss: 1.1204 - val_accuracy: 0.5263\n",
      "Epoch 41/100\n",
      "4/4 [==============================] - 1s 132ms/step - loss: 0.0162 - accuracy: 1.0000 - val_loss: 2.7926 - val_accuracy: 0.5526\n",
      "Epoch 42/100\n",
      "4/4 [==============================] - 1s 133ms/step - loss: 0.0095 - accuracy: 1.0000 - val_loss: 0.9029 - val_accuracy: 0.5526\n",
      "Epoch 43/100\n",
      "4/4 [==============================] - 0s 125ms/step - loss: 0.0067 - accuracy: 1.0000 - val_loss: 3.0952 - val_accuracy: 0.5526\n",
      "Epoch 44/100\n",
      "4/4 [==============================] - 0s 125ms/step - loss: 0.0055 - accuracy: 1.0000 - val_loss: 4.5955 - val_accuracy: 0.5526\n",
      "Epoch 45/100\n",
      "4/4 [==============================] - 1s 132ms/step - loss: 0.0061 - accuracy: 1.0000 - val_loss: 5.3603 - val_accuracy: 0.5789\n",
      "Epoch 46/100\n",
      "4/4 [==============================] - 0s 123ms/step - loss: 0.0041 - accuracy: 1.0000 - val_loss: 0.8683 - val_accuracy: 0.5789\n",
      "Epoch 47/100\n",
      "4/4 [==============================] - 1s 127ms/step - loss: 0.0035 - accuracy: 1.0000 - val_loss: 3.8362 - val_accuracy: 0.5526\n",
      "Epoch 48/100\n",
      "4/4 [==============================] - 0s 121ms/step - loss: 0.0062 - accuracy: 1.0000 - val_loss: 3.5207 - val_accuracy: 0.5526\n",
      "Epoch 49/100\n",
      "4/4 [==============================] - 1s 141ms/step - loss: 0.0040 - accuracy: 1.0000 - val_loss: 6.7632 - val_accuracy: 0.5789\n",
      "Epoch 50/100\n",
      "4/4 [==============================] - 0s 124ms/step - loss: 0.0032 - accuracy: 1.0000 - val_loss: 5.6239 - val_accuracy: 0.5789\n",
      "Epoch 51/100\n",
      "4/4 [==============================] - 1s 134ms/step - loss: 0.0025 - accuracy: 1.0000 - val_loss: 4.0558 - val_accuracy: 0.5789\n",
      "Epoch 52/100\n",
      "4/4 [==============================] - 0s 122ms/step - loss: 0.0022 - accuracy: 1.0000 - val_loss: 1.1924 - val_accuracy: 0.5789\n",
      "Epoch 53/100\n",
      "4/4 [==============================] - 1s 130ms/step - loss: 0.0014 - accuracy: 1.0000 - val_loss: 2.4633 - val_accuracy: 0.5789\n",
      "Epoch 54/100\n",
      "4/4 [==============================] - 1s 140ms/step - loss: 0.0012 - accuracy: 1.0000 - val_loss: 5.4178 - val_accuracy: 0.5789\n",
      "Epoch 55/100\n",
      "4/4 [==============================] - 1s 129ms/step - loss: 0.0017 - accuracy: 1.0000 - val_loss: 3.4467 - val_accuracy: 0.5789\n",
      "Epoch 56/100\n",
      "4/4 [==============================] - 1s 173ms/step - loss: 0.0011 - accuracy: 1.0000 - val_loss: 0.5852 - val_accuracy: 0.5789\n",
      "Epoch 57/100\n",
      "4/4 [==============================] - 1s 127ms/step - loss: 9.5526e-04 - accuracy: 1.0000 - val_loss: 1.5330 - val_accuracy: 0.5789\n",
      "Epoch 58/100\n",
      "4/4 [==============================] - 1s 134ms/step - loss: 9.6509e-04 - accuracy: 1.0000 - val_loss: 3.5376 - val_accuracy: 0.5789\n"
     ]
    },
    {
     "name": "stdout",
     "output_type": "stream",
     "text": [
      "Epoch 59/100\n",
      "4/4 [==============================] - 1s 127ms/step - loss: 0.0015 - accuracy: 1.0000 - val_loss: 2.7445 - val_accuracy: 0.6053\n",
      "Epoch 60/100\n",
      "4/4 [==============================] - 1s 139ms/step - loss: 9.9807e-04 - accuracy: 1.0000 - val_loss: 1.2322 - val_accuracy: 0.6053\n",
      "Epoch 61/100\n",
      "4/4 [==============================] - 0s 119ms/step - loss: 0.0013 - accuracy: 1.0000 - val_loss: 0.4735 - val_accuracy: 0.5789\n",
      "Epoch 62/100\n",
      "4/4 [==============================] - 0s 117ms/step - loss: 7.8836e-04 - accuracy: 1.0000 - val_loss: 1.7002 - val_accuracy: 0.5789\n",
      "Epoch 63/100\n",
      "4/4 [==============================] - 1s 126ms/step - loss: 8.1790e-04 - accuracy: 1.0000 - val_loss: 0.0073 - val_accuracy: 0.5526\n",
      "Epoch 64/100\n",
      "4/4 [==============================] - 0s 113ms/step - loss: 6.4504e-04 - accuracy: 1.0000 - val_loss: 5.0487 - val_accuracy: 0.5263\n",
      "Epoch 65/100\n",
      "4/4 [==============================] - 0s 124ms/step - loss: 6.5030e-04 - accuracy: 1.0000 - val_loss: 3.6515 - val_accuracy: 0.5526\n",
      "Epoch 66/100\n",
      "4/4 [==============================] - 1s 135ms/step - loss: 9.5201e-04 - accuracy: 1.0000 - val_loss: 7.0106 - val_accuracy: 0.5789\n",
      "Epoch 67/100\n",
      "4/4 [==============================] - 1s 131ms/step - loss: 0.0017 - accuracy: 1.0000 - val_loss: 1.0545 - val_accuracy: 0.5789\n",
      "Epoch 68/100\n",
      "4/4 [==============================] - 0s 120ms/step - loss: 5.4062e-04 - accuracy: 1.0000 - val_loss: 4.5066 - val_accuracy: 0.5526\n",
      "Epoch 69/100\n",
      "4/4 [==============================] - 1s 130ms/step - loss: 0.0012 - accuracy: 1.0000 - val_loss: 0.7950 - val_accuracy: 0.5526\n",
      "Epoch 70/100\n",
      "4/4 [==============================] - 0s 115ms/step - loss: 5.6333e-04 - accuracy: 1.0000 - val_loss: 1.8466 - val_accuracy: 0.5789\n",
      "Epoch 71/100\n",
      "4/4 [==============================] - 1s 134ms/step - loss: 6.4412e-04 - accuracy: 1.0000 - val_loss: 2.1986 - val_accuracy: 0.5789\n",
      "Epoch 72/100\n",
      "4/4 [==============================] - 0s 123ms/step - loss: 6.8972e-04 - accuracy: 1.0000 - val_loss: 3.5849 - val_accuracy: 0.5789\n",
      "Epoch 73/100\n",
      "4/4 [==============================] - 1s 130ms/step - loss: 5.4395e-04 - accuracy: 1.0000 - val_loss: 6.7792 - val_accuracy: 0.5789\n",
      "Epoch 74/100\n",
      "4/4 [==============================] - 1s 144ms/step - loss: 4.8811e-04 - accuracy: 1.0000 - val_loss: 5.7878 - val_accuracy: 0.5789\n",
      "Epoch 75/100\n",
      "4/4 [==============================] - 1s 125ms/step - loss: 4.5459e-04 - accuracy: 1.0000 - val_loss: 2.2418 - val_accuracy: 0.5789\n",
      "Epoch 76/100\n",
      "4/4 [==============================] - 1s 130ms/step - loss: 4.6107e-04 - accuracy: 1.0000 - val_loss: 6.5401 - val_accuracy: 0.5789\n",
      "Epoch 77/100\n",
      "4/4 [==============================] - 0s 120ms/step - loss: 4.3778e-04 - accuracy: 1.0000 - val_loss: 1.6594 - val_accuracy: 0.5789\n",
      "Epoch 78/100\n",
      "4/4 [==============================] - 0s 123ms/step - loss: 5.0037e-04 - accuracy: 1.0000 - val_loss: 2.3314 - val_accuracy: 0.5789\n",
      "Epoch 79/100\n",
      "4/4 [==============================] - 1s 126ms/step - loss: 3.9934e-04 - accuracy: 1.0000 - val_loss: 2.5855 - val_accuracy: 0.5789\n",
      "Epoch 80/100\n",
      "4/4 [==============================] - 1s 127ms/step - loss: 4.8784e-04 - accuracy: 1.0000 - val_loss: 2.7487 - val_accuracy: 0.5789\n",
      "Epoch 81/100\n",
      "4/4 [==============================] - 1s 141ms/step - loss: 3.5242e-04 - accuracy: 1.0000 - val_loss: 7.2737 - val_accuracy: 0.5789\n",
      "Epoch 82/100\n",
      "4/4 [==============================] - 1s 137ms/step - loss: 2.9508e-04 - accuracy: 1.0000 - val_loss: 5.8918 - val_accuracy: 0.5789\n",
      "Epoch 83/100\n",
      "4/4 [==============================] - 1s 133ms/step - loss: 3.4607e-04 - accuracy: 1.0000 - val_loss: 4.0212 - val_accuracy: 0.5789\n",
      "Epoch 84/100\n",
      "4/4 [==============================] - 1s 132ms/step - loss: 3.2999e-04 - accuracy: 1.0000 - val_loss: 3.6463 - val_accuracy: 0.5789\n",
      "Epoch 85/100\n",
      "4/4 [==============================] - 0s 115ms/step - loss: 2.6576e-04 - accuracy: 1.0000 - val_loss: 2.6756 - val_accuracy: 0.5789\n",
      "Epoch 86/100\n",
      "4/4 [==============================] - 0s 112ms/step - loss: 2.7907e-04 - accuracy: 1.0000 - val_loss: 1.8947 - val_accuracy: 0.5789\n",
      "Epoch 87/100\n",
      "4/4 [==============================] - 1s 129ms/step - loss: 2.5202e-04 - accuracy: 1.0000 - val_loss: 5.4284 - val_accuracy: 0.5789\n",
      "Epoch 88/100\n",
      "4/4 [==============================] - 0s 121ms/step - loss: 2.9076e-04 - accuracy: 1.0000 - val_loss: 6.5785 - val_accuracy: 0.5789\n",
      "Epoch 89/100\n",
      "4/4 [==============================] - 0s 121ms/step - loss: 2.5748e-04 - accuracy: 1.0000 - val_loss: 3.8162 - val_accuracy: 0.5789\n",
      "Epoch 90/100\n",
      "4/4 [==============================] - 1s 135ms/step - loss: 2.3560e-04 - accuracy: 1.0000 - val_loss: 1.7058 - val_accuracy: 0.5789\n",
      "Epoch 91/100\n",
      "4/4 [==============================] - 0s 122ms/step - loss: 2.7348e-04 - accuracy: 1.0000 - val_loss: 4.3345 - val_accuracy: 0.5789\n",
      "Epoch 92/100\n",
      "4/4 [==============================] - 1s 125ms/step - loss: 4.5198e-04 - accuracy: 1.0000 - val_loss: 1.3495 - val_accuracy: 0.5789\n",
      "Epoch 93/100\n",
      "4/4 [==============================] - 1s 132ms/step - loss: 2.9454e-04 - accuracy: 1.0000 - val_loss: 5.6907 - val_accuracy: 0.5526\n",
      "Epoch 94/100\n",
      "4/4 [==============================] - 0s 124ms/step - loss: 2.3762e-04 - accuracy: 1.0000 - val_loss: 0.7559 - val_accuracy: 0.5526\n",
      "Epoch 95/100\n",
      "4/4 [==============================] - 1s 137ms/step - loss: 2.2750e-04 - accuracy: 1.0000 - val_loss: 4.2462 - val_accuracy: 0.5789\n",
      "Epoch 96/100\n",
      "4/4 [==============================] - 0s 123ms/step - loss: 2.0876e-04 - accuracy: 1.0000 - val_loss: 4.3221 - val_accuracy: 0.5789\n",
      "Epoch 97/100\n",
      "4/4 [==============================] - 1s 148ms/step - loss: 2.1244e-04 - accuracy: 1.0000 - val_loss: 4.4923 - val_accuracy: 0.5789\n",
      "Epoch 98/100\n",
      "4/4 [==============================] - 1s 126ms/step - loss: 2.4390e-04 - accuracy: 1.0000 - val_loss: 5.4453 - val_accuracy: 0.5789\n",
      "Epoch 99/100\n",
      "4/4 [==============================] - 0s 123ms/step - loss: 2.7048e-04 - accuracy: 1.0000 - val_loss: 6.2089 - val_accuracy: 0.5789\n",
      "Epoch 100/100\n",
      "4/4 [==============================] - 1s 131ms/step - loss: 1.8778e-04 - accuracy: 1.0000 - val_loss: 3.7665 - val_accuracy: 0.5789\n"
     ]
    },
    {
     "data": {
      "text/plain": [
       "<keras.callbacks.callbacks.History at 0x1d9fc1cb408>"
      ]
     },
     "execution_count": 24,
     "metadata": {},
     "output_type": "execute_result"
    }
   ],
   "source": [
    "## fitting model to images\n",
    "classifier.fit_generator(\n",
    "        train_set,\n",
    "        epochs=100,\n",
    "        validation_data=test_set\n",
    "        )"
   ]
  },
  {
   "cell_type": "markdown",
   "metadata": {},
   "source": [
    "## fitting model to images\n",
    "classifier.fit_generator(\n",
    "        train_set,\n",
    "        steps_per_epoch=50,\n",
    "        epochs=5,\n",
    "        validation_data=test_set,\n",
    "        validation_steps=38)"
   ]
  },
  {
   "cell_type": "code",
   "execution_count": 25,
   "metadata": {},
   "outputs": [],
   "source": [
    "## prediction of single new data\n",
    "import numpy as np\n",
    "from keras.preprocessing import image\n",
    "test_image= image.load_img('dataset\\\\single_prediction\\\\dog.jpg'\n",
    "                           ,target_size =(64,64))\n"
   ]
  },
  {
   "cell_type": "code",
   "execution_count": 26,
   "metadata": {},
   "outputs": [
    {
     "data": {
      "image/png": "[encoded data removed]",
      "text/plain": [
       "<PIL.Image.Image image mode=RGB size=64x64 at 0x1D9FC1CBB88>"
      ]
     },
     "execution_count": 26,
     "metadata": {},
     "output_type": "execute_result"
    }
   ],
   "source": [
    "test_image"
   ]
  },
  {
   "cell_type": "code",
   "execution_count": 27,
   "metadata": {},
   "outputs": [],
   "source": [
    "## Convert image to array\n",
    "test_image = image.img_to_array(test_image)"
   ]
  },
  {
   "cell_type": "code",
   "execution_count": 28,
   "metadata": {},
   "outputs": [],
   "source": [
    "## For single prediction change the dimension . \n",
    "\n",
    "test_image=test_image.reshape(1,64,64,3)"
   ]
  },
  {
   "cell_type": "code",
   "execution_count": 29,
   "metadata": {},
   "outputs": [],
   "source": [
    "result = classifier.predict(test_image)"
   ]
  },
  {
   "cell_type": "code",
   "execution_count": 30,
   "metadata": {},
   "outputs": [],
   "source": [
    "## Class label of dog and cat\n",
    "\n",
    "if result == 1:\n",
    "    prediction = 'dog'\n",
    "else:\n",
    "    prediction = 'cat'\n",
    "    "
   ]
  },
  {
   "cell_type": "code",
   "execution_count": 33,
   "metadata": {},
   "outputs": [
    {
     "data": {
      "text/plain": [
       "'dog'"
      ]
     },
     "execution_count": 33,
     "metadata": {},
     "output_type": "execute_result"
    }
   ],
   "source": [
    "prediction"
   ]
  },
  {
   "cell_type": "code",
   "execution_count": 23,
   "metadata": {},
   "outputs": [],
   "source": [
    "#steps_per_epoch=50"
   ]
  },
  {
   "cell_type": "code",
   "execution_count": null,
   "metadata": {},
   "outputs": [],
   "source": []
  }
 ],
 "metadata": {
  "kernelspec": {
   "display_name": "Python 3",
   "language": "python",
   "name": "python3"
  },
  "language_info": {
   "codemirror_mode": {
    "name": "ipython",
    "version": 3
   },
   "file_extension": ".py",
   "mimetype": "text/x-python",
   "name": "python",
   "nbconvert_exporter": "python",
   "pygments_lexer": "ipython3",
   "version": "3.7.6"
  }
 },
 "nbformat": 4,
 "nbformat_minor": 2
}
