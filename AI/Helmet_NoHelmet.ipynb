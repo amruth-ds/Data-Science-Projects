{
 "cells": [
  {
   "cell_type": "code",
   "execution_count": 55,
   "metadata": {},
   "outputs": [
    {
     "name": "stdout",
     "output_type": "stream",
     "text": [
      "Collecting opencv-python\n",
      "  Using cached opencv_python-4.1.2.30-cp37-cp37m-win_amd64.whl (33.0 MB)\n",
      "Requirement already satisfied: numpy>=1.14.5 in c:\\users\\amruth pc\\anaconda3\\envs\\tensorflow_env\\lib\\site-packages (from opencv-python) (1.18.1)\n",
      "Installing collected packages: opencv-python\n",
      "Successfully installed opencv-python-4.1.2.30\n"
     ]
    },
    {
     "name": "stderr",
     "output_type": "stream",
     "text": [
      "WARNING: pip is being invoked by an old script wrapper. This will fail in a future version of pip.\n",
      "Please see https://github.com/pypa/pip/issues/5599 for advice on fixing the underlying issue.\n",
      "To avoid this problem you can invoke Python with '-m pip' instead of running pip directly.\n"
     ]
    }
   ],
   "source": [
    "#!pip install opencv-python"
   ]
  },
  {
   "cell_type": "code",
   "execution_count": 106,
   "metadata": {},
   "outputs": [],
   "source": [
    "#C:/Users/Amruth PC/Desktop/SEM 2/AI/data/helmet_detection/training\n",
    "import tensorflow as tf\n",
    "import pandas as pd\n",
    "import numpy as np\n",
    "import matplotlib.pyplot as plt\n",
    "%matplotlib inline\n",
    "\n",
    "from sklearn.metrics import confusion_matrix\n",
    "from sklearn.metrics import accuracy_score"
   ]
  },
  {
   "cell_type": "code",
   "execution_count": 107,
   "metadata": {},
   "outputs": [],
   "source": [
    "##Import libraries\n",
    "from keras.models import Sequential\n",
    "from keras.layers import Conv2D\n",
    "from keras.layers import MaxPooling2D\n",
    "from keras.layers import Flatten\n",
    "from keras.layers import Dense"
   ]
  },
  {
   "cell_type": "code",
   "execution_count": 108,
   "metadata": {},
   "outputs": [],
   "source": [
    "## Initialising the CNN\n",
    "classifier = Sequential()"
   ]
  },
  {
   "cell_type": "code",
   "execution_count": 109,
   "metadata": {},
   "outputs": [],
   "source": [
    "## Convolution(64 feature detector of dimension 3 by 3), input shape 3 layer for color image)\n",
    "classifier.add(Conv2D(64,(3,3),input_shape = (64,64,3), activation = 'relu'))\n",
    "## MaxPooling\n",
    "classifier.add(MaxPooling2D(pool_size = (2,2)))\n",
    "\n",
    "## Add another layer\n",
    "classifier.add(Conv2D(64,(3,3), activation = 'relu'))\n",
    "classifier.add(MaxPooling2D(pool_size = (2,2)))\n",
    "\n",
    "## Add another layer\n",
    "classifier.add(Conv2D(64,(3,3), activation = 'relu'))\n",
    "classifier.add(MaxPooling2D(pool_size = (2,2)))\n"
   ]
  },
  {
   "cell_type": "code",
   "execution_count": 110,
   "metadata": {},
   "outputs": [],
   "source": [
    "## Flattening\n",
    "classifier.add(Flatten())"
   ]
  },
  {
   "cell_type": "code",
   "execution_count": 111,
   "metadata": {},
   "outputs": [],
   "source": [
    "## Fully connected ANN, Hidden ANN and output layer\n",
    "classifier.add(Dense(units = 128, activation = 'relu'))\n"
   ]
  },
  {
   "cell_type": "code",
   "execution_count": 112,
   "metadata": {},
   "outputs": [],
   "source": [
    "#output layer\n",
    "classifier.add(Dense(units = 1, activation = 'sigmoid'))"
   ]
  },
  {
   "cell_type": "code",
   "execution_count": 113,
   "metadata": {},
   "outputs": [],
   "source": [
    "## Compliling\n",
    "classifier.compile(optimizer = 'adam', loss = 'binary_crossentropy', metrics = ['accuracy'])"
   ]
  },
  {
   "cell_type": "code",
   "execution_count": 114,
   "metadata": {},
   "outputs": [
    {
     "name": "stdout",
     "output_type": "stream",
     "text": [
      "Model: \"sequential_4\"\n",
      "_________________________________________________________________\n",
      "Layer (type)                 Output Shape              Param #   \n",
      "=================================================================\n",
      "conv2d_11 (Conv2D)           (None, 62, 62, 64)        1792      \n",
      "_________________________________________________________________\n",
      "max_pooling2d_10 (MaxPooling (None, 31, 31, 64)        0         \n",
      "_________________________________________________________________\n",
      "conv2d_12 (Conv2D)           (None, 29, 29, 64)        36928     \n",
      "_________________________________________________________________\n",
      "max_pooling2d_11 (MaxPooling (None, 14, 14, 64)        0         \n",
      "_________________________________________________________________\n",
      "conv2d_13 (Conv2D)           (None, 12, 12, 64)        36928     \n",
      "_________________________________________________________________\n",
      "max_pooling2d_12 (MaxPooling (None, 6, 6, 64)          0         \n",
      "_________________________________________________________________\n",
      "flatten_4 (Flatten)          (None, 2304)              0         \n",
      "_________________________________________________________________\n",
      "dense_7 (Dense)              (None, 128)               295040    \n",
      "_________________________________________________________________\n",
      "dense_8 (Dense)              (None, 1)                 129       \n",
      "=================================================================\n",
      "Total params: 370,817\n",
      "Trainable params: 370,817\n",
      "Non-trainable params: 0\n",
      "_________________________________________________________________\n"
     ]
    }
   ],
   "source": [
    "classifier.summary()"
   ]
  },
  {
   "cell_type": "code",
   "execution_count": 115,
   "metadata": {},
   "outputs": [],
   "source": [
    "## data importing and transforming and scaling\n",
    "from keras.preprocessing.image import ImageDataGenerator\n",
    "train_datagen = ImageDataGenerator(rescale=1./255,shear_range=0.2,zoom_range=0.2,horizontal_flip=True)"
   ]
  },
  {
   "cell_type": "code",
   "execution_count": 116,
   "metadata": {},
   "outputs": [],
   "source": [
    "## Scaling test data\n",
    "##no  data augmentation\n",
    "test_datagen = ImageDataGenerator(rescale=1./255,shear_range=0.2,zoom_range=0.2,horizontal_flip=True)"
   ]
  },
  {
   "cell_type": "code",
   "execution_count": 117,
   "metadata": {},
   "outputs": [
    {
     "name": "stdout",
     "output_type": "stream",
     "text": [
      "Found 647 images belonging to 2 classes.\n"
     ]
    }
   ],
   "source": [
    "## Importing training data\n",
    "train_set = train_datagen.flow_from_directory('C:/Users/Amruth PC/Desktop/SEM 2/AI/data/helmet_detection/training',\n",
    "                                               target_size=(64, 64),\n",
    "                                               \n",
    "                                               class_mode='binary')"
   ]
  },
  {
   "cell_type": "code",
   "execution_count": 118,
   "metadata": {},
   "outputs": [
    {
     "data": {
      "text/plain": [
       "{'with helmet': 0, 'without helmet': 1}"
      ]
     },
     "execution_count": 118,
     "metadata": {},
     "output_type": "execute_result"
    }
   ],
   "source": [
    "train_set.class_indices"
   ]
  },
  {
   "cell_type": "code",
   "execution_count": 119,
   "metadata": {},
   "outputs": [
    {
     "name": "stdout",
     "output_type": "stream",
     "text": [
      "{'with helmet': 0, 'without helmet': 1}\n"
     ]
    }
   ],
   "source": [
    "#which is cat which is dog?\n",
    "label_map = (train_set.class_indices)\n",
    "print(label_map)"
   ]
  },
  {
   "cell_type": "code",
   "execution_count": 120,
   "metadata": {},
   "outputs": [
    {
     "name": "stdout",
     "output_type": "stream",
     "text": [
      "Found 208 images belonging to 2 classes.\n"
     ]
    }
   ],
   "source": [
    "from PIL import Image\n",
    "## Importng test data\n",
    "test_set = test_datagen.flow_from_directory('C:/Users/Amruth PC/Desktop/SEM 2/AI/data/helmet_detection/testing',\n",
    "                                            target_size=(64, 64),\n",
    "                                            \n",
    "                                            class_mode='binary')"
   ]
  },
  {
   "cell_type": "code",
   "execution_count": 121,
   "metadata": {},
   "outputs": [
    {
     "data": {
      "text/plain": [
       "<keras.preprocessing.image.DirectoryIterator at 0x21206885048>"
      ]
     },
     "execution_count": 121,
     "metadata": {},
     "output_type": "execute_result"
    }
   ],
   "source": [
    "test_set"
   ]
  },
  {
   "cell_type": "code",
   "execution_count": null,
   "metadata": {},
   "outputs": [
    {
     "name": "stdout",
     "output_type": "stream",
     "text": [
      "Epoch 1/100\n",
      "21/21 [==============================] - 3s 130ms/step - loss: 0.0094 - accuracy: 0.9969 - val_loss: 0.0180 - val_accuracy: 0.9808\n",
      "Epoch 2/100\n",
      "21/21 [==============================] - 3s 151ms/step - loss: 0.0052 - accuracy: 1.0000 - val_loss: 0.0246 - val_accuracy: 0.9712\n",
      "Epoch 3/100\n",
      "21/21 [==============================] - 3s 152ms/step - loss: 0.0250 - accuracy: 0.9954 - val_loss: 0.0120 - val_accuracy: 0.9712\n",
      "Epoch 4/100\n",
      "21/21 [==============================] - 3s 132ms/step - loss: 0.0069 - accuracy: 0.9985 - val_loss: 0.0648 - val_accuracy: 0.9952\n",
      "Epoch 5/100\n",
      "21/21 [==============================] - 3s 132ms/step - loss: 0.0049 - accuracy: 0.9985 - val_loss: 7.3106e-04 - val_accuracy: 0.9567\n",
      "Epoch 6/100\n",
      "21/21 [==============================] - 3s 160ms/step - loss: 0.0071 - accuracy: 0.9985 - val_loss: 0.0094 - val_accuracy: 0.9808\n",
      "Epoch 7/100\n",
      "21/21 [==============================] - 4s 167ms/step - loss: 0.0246 - accuracy: 0.9876 - val_loss: 0.0685 - val_accuracy: 0.9808\n",
      "Epoch 8/100\n",
      "21/21 [==============================] - 3s 145ms/step - loss: 0.0308 - accuracy: 0.9861 - val_loss: 3.1929e-04 - val_accuracy: 0.9856\n",
      "Epoch 9/100\n",
      "21/21 [==============================] - 3s 161ms/step - loss: 0.0178 - accuracy: 0.9923 - val_loss: 0.3584 - val_accuracy: 0.9760\n",
      "Epoch 10/100\n",
      "21/21 [==============================] - 3s 148ms/step - loss: 0.0149 - accuracy: 0.9923 - val_loss: 0.2230 - val_accuracy: 0.9760\n",
      "Epoch 11/100\n",
      "21/21 [==============================] - 3s 146ms/step - loss: 0.0094 - accuracy: 0.9969 - val_loss: 0.0027 - val_accuracy: 0.9808\n",
      "Epoch 12/100\n",
      "21/21 [==============================] - 3s 165ms/step - loss: 0.0150 - accuracy: 0.9969 - val_loss: 0.1114 - val_accuracy: 0.9663\n",
      "Epoch 13/100\n",
      "21/21 [==============================] - 3s 142ms/step - loss: 0.0080 - accuracy: 0.9985 - val_loss: 0.0205 - val_accuracy: 0.9615\n",
      "Epoch 14/100\n",
      "21/21 [==============================] - 3s 148ms/step - loss: 0.0265 - accuracy: 0.9923 - val_loss: 0.4787 - val_accuracy: 0.9519\n",
      "Epoch 15/100\n",
      "21/21 [==============================] - 3s 143ms/step - loss: 0.0537 - accuracy: 0.9815 - val_loss: 0.0424 - val_accuracy: 0.9760\n",
      "Epoch 16/100\n",
      "21/21 [==============================] - 3s 148ms/step - loss: 0.1052 - accuracy: 0.9583 - val_loss: 0.5981 - val_accuracy: 0.9712\n",
      "Epoch 17/100\n",
      "21/21 [==============================] - 3s 154ms/step - loss: 0.0321 - accuracy: 0.9892 - val_loss: 0.1126 - val_accuracy: 0.9663\n",
      "Epoch 18/100\n",
      "21/21 [==============================] - 3s 150ms/step - loss: 0.0480 - accuracy: 0.9815 - val_loss: 0.0098 - val_accuracy: 0.9519\n",
      "Epoch 19/100\n",
      "21/21 [==============================] - 3s 148ms/step - loss: 0.0398 - accuracy: 0.9845 - val_loss: 0.0043 - val_accuracy: 0.9663\n",
      "Epoch 20/100\n",
      "21/21 [==============================] - 3s 155ms/step - loss: 0.0423 - accuracy: 0.9861 - val_loss: 0.1154 - val_accuracy: 0.9663\n",
      "Epoch 21/100\n",
      "21/21 [==============================] - 3s 149ms/step - loss: 0.0201 - accuracy: 0.9954 - val_loss: 0.0361 - val_accuracy: 0.9808\n",
      "Epoch 22/100\n",
      "21/21 [==============================] - 3s 164ms/step - loss: 0.0075 - accuracy: 0.9985 - val_loss: 0.0091 - val_accuracy: 0.9808\n",
      "Epoch 23/100\n",
      "21/21 [==============================] - 3s 142ms/step - loss: 0.0114 - accuracy: 0.9969 - val_loss: 7.7703e-04 - val_accuracy: 0.9663\n",
      "Epoch 24/100\n",
      "21/21 [==============================] - 3s 148ms/step - loss: 0.0030 - accuracy: 1.0000 - val_loss: 0.0133 - val_accuracy: 0.9760\n",
      "Epoch 25/100\n",
      "21/21 [==============================] - 3s 154ms/step - loss: 0.0038 - accuracy: 0.9985 - val_loss: 4.2530e-04 - val_accuracy: 0.9808\n",
      "Epoch 26/100\n",
      "21/21 [==============================] - 3s 159ms/step - loss: 0.0018 - accuracy: 1.0000 - val_loss: 0.2558 - val_accuracy: 0.9856\n",
      "Epoch 27/100\n",
      "21/21 [==============================] - 3s 150ms/step - loss: 0.0011 - accuracy: 1.0000 - val_loss: 0.0131 - val_accuracy: 0.9808\n",
      "Epoch 28/100\n",
      "21/21 [==============================] - 3s 149ms/step - loss: 0.0014 - accuracy: 1.0000 - val_loss: 1.2706e-04 - val_accuracy: 0.9856\n",
      "Epoch 29/100\n",
      "21/21 [==============================] - 3s 166ms/step - loss: 0.0038 - accuracy: 1.0000 - val_loss: 0.0176 - val_accuracy: 0.9904\n",
      "Epoch 30/100\n",
      "21/21 [==============================] - 3s 141ms/step - loss: 0.0072 - accuracy: 0.9969 - val_loss: 0.1638 - val_accuracy: 0.9615\n",
      "Epoch 31/100\n",
      "21/21 [==============================] - 3s 144ms/step - loss: 0.0305 - accuracy: 0.9876 - val_loss: 0.0024 - val_accuracy: 0.9663\n",
      "Epoch 32/100\n",
      "21/21 [==============================] - 4s 169ms/step - loss: 0.0195 - accuracy: 0.9923 - val_loss: 0.0119 - val_accuracy: 0.9760\n",
      "Epoch 33/100\n",
      "21/21 [==============================] - 3s 147ms/step - loss: 0.0052 - accuracy: 1.0000 - val_loss: 0.0065 - val_accuracy: 0.9760\n",
      "Epoch 34/100\n",
      "21/21 [==============================] - 3s 148ms/step - loss: 0.0052 - accuracy: 0.9985 - val_loss: 0.3659 - val_accuracy: 0.9760\n",
      "Epoch 35/100\n",
      "21/21 [==============================] - 3s 158ms/step - loss: 0.0036 - accuracy: 0.9985 - val_loss: 0.0790 - val_accuracy: 0.9808\n",
      "Epoch 36/100\n",
      "21/21 [==============================] - 3s 144ms/step - loss: 0.0042 - accuracy: 1.0000 - val_loss: 0.0023 - val_accuracy: 0.9808\n",
      "Epoch 37/100\n",
      "21/21 [==============================] - 3s 143ms/step - loss: 0.0061 - accuracy: 0.9985 - val_loss: 0.0060 - val_accuracy: 0.9760\n",
      "Epoch 38/100\n",
      "21/21 [==============================] - 3s 154ms/step - loss: 0.0083 - accuracy: 0.9969 - val_loss: 0.0010 - val_accuracy: 0.9760\n",
      "Epoch 39/100\n",
      "21/21 [==============================] - 3s 151ms/step - loss: 0.0019 - accuracy: 1.0000 - val_loss: 0.0026 - val_accuracy: 0.9952\n",
      "Epoch 40/100\n",
      "21/21 [==============================] - 3s 146ms/step - loss: 0.0035 - accuracy: 0.9985 - val_loss: 0.0162 - val_accuracy: 0.9856\n",
      "Epoch 41/100\n",
      "21/21 [==============================] - 3s 149ms/step - loss: 0.0301 - accuracy: 0.9907 - val_loss: 0.0672 - val_accuracy: 0.9663\n",
      "Epoch 42/100\n",
      "21/21 [==============================] - 3s 158ms/step - loss: 0.0191 - accuracy: 0.9954 - val_loss: 0.0137 - val_accuracy: 0.9952\n",
      "Epoch 43/100\n",
      "21/21 [==============================] - 3s 157ms/step - loss: 0.0043 - accuracy: 1.0000 - val_loss: 0.1822 - val_accuracy: 0.9712\n",
      "Epoch 44/100\n",
      "21/21 [==============================] - 4s 179ms/step - loss: 0.0020 - accuracy: 1.0000 - val_loss: 0.2011 - val_accuracy: 0.9856\n",
      "Epoch 45/100\n",
      "21/21 [==============================] - 4s 169ms/step - loss: 0.0059 - accuracy: 0.9969 - val_loss: 0.0012 - val_accuracy: 0.9904\n",
      "Epoch 46/100\n",
      "21/21 [==============================] - 3s 147ms/step - loss: 0.0092 - accuracy: 0.9954 - val_loss: 0.8210 - val_accuracy: 0.9423\n",
      "Epoch 47/100\n",
      "21/21 [==============================] - 3s 154ms/step - loss: 0.0642 - accuracy: 0.9876 - val_loss: 0.4801 - val_accuracy: 0.8558\n",
      "Epoch 48/100\n",
      "21/21 [==============================] - 3s 143ms/step - loss: 0.1053 - accuracy: 0.9598 - val_loss: 0.0728 - val_accuracy: 0.9663\n",
      "Epoch 49/100\n",
      "21/21 [==============================] - 3s 155ms/step - loss: 0.0348 - accuracy: 0.9861 - val_loss: 0.0975 - val_accuracy: 0.9663\n",
      "Epoch 50/100\n",
      "21/21 [==============================] - 4s 188ms/step - loss: 0.0281 - accuracy: 0.9892 - val_loss: 0.0322 - val_accuracy: 0.9327\n",
      "Epoch 51/100\n",
      "21/21 [==============================] - 4s 175ms/step - loss: 0.0346 - accuracy: 0.9892 - val_loss: 0.1206 - val_accuracy: 0.9712\n",
      "Epoch 52/100\n",
      "21/21 [==============================] - 4s 168ms/step - loss: 0.0101 - accuracy: 0.9969 - val_loss: 0.2251 - val_accuracy: 0.9760\n",
      "Epoch 53/100\n",
      "21/21 [==============================] - 3s 145ms/step - loss: 0.0118 - accuracy: 0.9954 - val_loss: 0.0015 - val_accuracy: 0.9808\n",
      "Epoch 54/100\n"
     ]
    },
    {
     "name": "stderr",
     "output_type": "stream",
     "text": [
      "C:\\Users\\Amruth PC\\Anaconda3\\envs\\tensorflow_env\\lib\\site-packages\\keras\\utils\\data_utils.py:616: UserWarning: The input 9 could not be retrieved. It could be because a worker has died.\n",
      "  UserWarning)\n"
     ]
    }
   ],
   "source": [
    "## fitting model to images\n",
    "classifier.fit_generator(\n",
    "        train_set,\n",
    "        epochs=100,\n",
    "        validation_data=test_set\n",
    "        )"
   ]
  },
  {
   "cell_type": "code",
   "execution_count": 124,
   "metadata": {},
   "outputs": [
    {
     "name": "stdout",
     "output_type": "stream",
     "text": [
      "7/7 [==============================] - 0s 52ms/step\n"
     ]
    },
    {
     "data": {
      "text/plain": [
       "[0.02534724585711956, 0.9807692170143127]"
      ]
     },
     "execution_count": 124,
     "metadata": {},
     "output_type": "execute_result"
    }
   ],
   "source": [
    "classifier.evaluate(test_set)"
   ]
  },
  {
   "cell_type": "code",
   "execution_count": null,
   "metadata": {},
   "outputs": [],
   "source": []
  },
  {
   "cell_type": "code",
   "execution_count": 126,
   "metadata": {},
   "outputs": [
    {
     "name": "stdout",
     "output_type": "stream",
     "text": [
      "[[0]\n",
      " [0]\n",
      " [0]\n",
      " [0]\n",
      " [0]\n",
      " [0]\n",
      " [0]\n",
      " [1]\n",
      " [0]\n",
      " [0]\n",
      " [1]\n",
      " [0]\n",
      " [0]\n",
      " [0]\n",
      " [0]\n",
      " [0]\n",
      " [0]\n",
      " [0]]\n",
      "               Pred        Img\n",
      "0       With Helmet    wh1.jpg\n",
      "1       With Helmet    wh2.jpg\n",
      "2       With Helmet    wh3.jpg\n",
      "3       With Helmet    wh4.jpg\n",
      "4       With Helmet    wh5.jpg\n",
      "5       With Helmet    wh7.jpg\n",
      "6       With Helmet   woh1.jpg\n",
      "7   With Out Helmet  woh10.jpg\n",
      "8       With Helmet  woh11.jpg\n",
      "9       With Helmet  woh12.jpg\n",
      "10  With Out Helmet   woh2.jpg\n",
      "11      With Helmet   woh3.jpg\n",
      "12      With Helmet   woh4.jpg\n",
      "13      With Helmet   woh5.jpg\n",
      "14      With Helmet   woh6.jpg\n",
      "15      With Helmet   woh7.jpg\n",
      "16      With Helmet   woh8.jpg\n",
      "17      With Helmet   woh9.jpg\n"
     ]
    }
   ],
   "source": [
    "images = []\n",
    "names=[]\n",
    "pred=[]\n",
    "folder_path='C:/Users/Amruth PC/Desktop/SEM 2/AI/data/helmet_detection/single_prediction'\n",
    "for img in os.listdir(folder_path):\n",
    "    names.append(img)\n",
    "    img = os.path.join(folder_path, img)\n",
    "    img = image.load_img(img, target_size=(64, 64))\n",
    "    img = image.img_to_array(img)\n",
    "    img = np.expand_dims(img, axis=0)\n",
    "    images.append(img)\n",
    "\n",
    "# stack up images list to pass for prediction\n",
    "images = np.vstack(images)\n",
    "classes = classifier.predict_classes(images, batch_size=10)\n",
    "print(classes)\n",
    "for i in classes:\n",
    "    if(i==1):\n",
    "        pred.append('With Out Helmet')\n",
    "    else:\n",
    "        pred.append('With Helmet')\n",
    "data=pd.DataFrame(pred)\n",
    "data.columns=['Pred']\n",
    "data['Img']=names\n",
    "print(data)"
   ]
  },
  {
   "cell_type": "code",
   "execution_count": 58,
   "metadata": {},
   "outputs": [],
   "source": []
  },
  {
   "cell_type": "code",
   "execution_count": null,
   "metadata": {},
   "outputs": [],
   "source": []
  },
  {
   "cell_type": "code",
   "execution_count": 51,
   "metadata": {},
   "outputs": [
    {
     "name": "stdout",
     "output_type": "stream",
     "text": [
      "Found 0 images belonging to 0 classes.\n"
     ]
    }
   ],
   "source": [
    "## prediction of single new data\n",
    "import numpy as np\n",
    "from keras.preprocessing import image\n",
    "test_image= image.load_img('C:/Users/Amruth PC/Desktop/SEM 2/AI/data/helmet_detection/single_prediction/abc.jpg'\n",
    "                           ,target_size =(128,128))\n"
   ]
  },
  {
   "cell_type": "code",
   "execution_count": 43,
   "metadata": {},
   "outputs": [
    {
     "data": {
      "image/png": "[encoded data removed]",
      "text/plain": [
       "<PIL.Image.Image image mode=RGB size=64x64 at 0x21262DB8088>"
      ]
     },
     "execution_count": 43,
     "metadata": {},
     "output_type": "execute_result"
    }
   ],
   "source": [
    "test_image"
   ]
  },
  {
   "cell_type": "code",
   "execution_count": 44,
   "metadata": {},
   "outputs": [],
   "source": [
    "## Convert image to array\n",
    "test_image = image.img_to_array(test_image)"
   ]
  },
  {
   "cell_type": "code",
   "execution_count": 45,
   "metadata": {},
   "outputs": [],
   "source": [
    "## For single prediction change the dimension . \n",
    "\n",
    "test_image=test_image.reshape(1,128,128,3)"
   ]
  },
  {
   "cell_type": "code",
   "execution_count": 46,
   "metadata": {},
   "outputs": [],
   "source": [
    "result = classifier.predict(test_image)"
   ]
  },
  {
   "cell_type": "code",
   "execution_count": 47,
   "metadata": {},
   "outputs": [
    {
     "data": {
      "text/plain": [
       "array([[0.]], dtype=float32)"
      ]
     },
     "execution_count": 47,
     "metadata": {},
     "output_type": "execute_result"
    }
   ],
   "source": [
    "result"
   ]
  },
  {
   "cell_type": "code",
   "execution_count": 48,
   "metadata": {},
   "outputs": [],
   "source": [
    "## Class label of dog and cat\n",
    "\n",
    "if result == 1:\n",
    "    prediction = 'With Out Helmet'\n",
    "else:\n",
    "    prediction = 'With Helmet'\n",
    "    "
   ]
  },
  {
   "cell_type": "code",
   "execution_count": 49,
   "metadata": {},
   "outputs": [
    {
     "data": {
      "text/plain": [
       "'With Helmet'"
      ]
     },
     "execution_count": 49,
     "metadata": {},
     "output_type": "execute_result"
    }
   ],
   "source": [
    "prediction"
   ]
  },
  {
   "cell_type": "code",
   "execution_count": null,
   "metadata": {},
   "outputs": [],
   "source": []
  },
  {
   "cell_type": "code",
   "execution_count": null,
   "metadata": {},
   "outputs": [],
   "source": []
  }
 ],
 "metadata": {
  "kernelspec": {
   "display_name": "Python 3",
   "language": "python",
   "name": "python3"
  },
  "language_info": {
   "codemirror_mode": {
    "name": "ipython",
    "version": 3
   },
   "file_extension": ".py",
   "mimetype": "text/x-python",
   "name": "python",
   "nbconvert_exporter": "python",
   "pygments_lexer": "ipython3",
   "version": "3.7.3"
  }
 },
 "nbformat": 4,
 "nbformat_minor": 4
}
