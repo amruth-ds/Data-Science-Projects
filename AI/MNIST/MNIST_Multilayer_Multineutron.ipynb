{
 "cells": [
  {
   "cell_type": "code",
   "execution_count": 2,
   "metadata": {},
   "outputs": [],
   "source": [
    "import tensorflow as tf\n",
    "import pandas as pd\n",
    "import numpy as np\n",
    "import matplotlib.pyplot as plt\n",
    "%matplotlib inline\n",
    "\n",
    "from sklearn.metrics import confusion_matrix\n",
    "from sklearn.metrics import accuracy_score"
   ]
  },
  {
   "cell_type": "code",
   "execution_count": 3,
   "metadata": {},
   "outputs": [],
   "source": [
    "from tensorflow.examples.tutorials.mnist import input_data"
   ]
  },
  {
   "cell_type": "code",
   "execution_count": 4,
   "metadata": {},
   "outputs": [
    {
     "name": "stdout",
     "output_type": "stream",
     "text": [
      "WARNING:tensorflow:From <ipython-input-4-76b6c1365498>:1: read_data_sets (from tensorflow.contrib.learn.python.learn.datasets.mnist) is deprecated and will be removed in a future version.\n",
      "Instructions for updating:\n",
      "Please use alternatives such as official/mnist/dataset.py from tensorflow/models.\n",
      "WARNING:tensorflow:From C:\\Users\\Amruth PC\\Anaconda3\\envs\\tensorflow_env\\lib\\site-packages\\tensorflow_core\\contrib\\learn\\python\\learn\\datasets\\mnist.py:260: maybe_download (from tensorflow.contrib.learn.python.learn.datasets.base) is deprecated and will be removed in a future version.\n",
      "Instructions for updating:\n",
      "Please write your own downloading logic.\n",
      "WARNING:tensorflow:From C:\\Users\\Amruth PC\\Anaconda3\\envs\\tensorflow_env\\lib\\site-packages\\tensorflow_core\\contrib\\learn\\python\\learn\\datasets\\mnist.py:262: extract_images (from tensorflow.contrib.learn.python.learn.datasets.mnist) is deprecated and will be removed in a future version.\n",
      "Instructions for updating:\n",
      "Please use tf.data to implement this functionality.\n",
      "Extracting MNIST_data/train-images-idx3-ubyte.gz\n",
      "WARNING:tensorflow:From C:\\Users\\Amruth PC\\Anaconda3\\envs\\tensorflow_env\\lib\\site-packages\\tensorflow_core\\contrib\\learn\\python\\learn\\datasets\\mnist.py:267: extract_labels (from tensorflow.contrib.learn.python.learn.datasets.mnist) is deprecated and will be removed in a future version.\n",
      "Instructions for updating:\n",
      "Please use tf.data to implement this functionality.\n",
      "Extracting MNIST_data/train-labels-idx1-ubyte.gz\n",
      "WARNING:tensorflow:From C:\\Users\\Amruth PC\\Anaconda3\\envs\\tensorflow_env\\lib\\site-packages\\tensorflow_core\\contrib\\learn\\python\\learn\\datasets\\mnist.py:110: dense_to_one_hot (from tensorflow.contrib.learn.python.learn.datasets.mnist) is deprecated and will be removed in a future version.\n",
      "Instructions for updating:\n",
      "Please use tf.one_hot on tensors.\n",
      "Extracting MNIST_data/t10k-images-idx3-ubyte.gz\n",
      "Extracting MNIST_data/t10k-labels-idx1-ubyte.gz\n",
      "WARNING:tensorflow:From C:\\Users\\Amruth PC\\Anaconda3\\envs\\tensorflow_env\\lib\\site-packages\\tensorflow_core\\contrib\\learn\\python\\learn\\datasets\\mnist.py:290: DataSet.__init__ (from tensorflow.contrib.learn.python.learn.datasets.mnist) is deprecated and will be removed in a future version.\n",
      "Instructions for updating:\n",
      "Please use alternatives such as official/mnist/dataset.py from tensorflow/models.\n"
     ]
    }
   ],
   "source": [
    "minst = input_data.read_data_sets(\"MNIST_data/\",one_hot=True)"
   ]
  },
  {
   "cell_type": "code",
   "execution_count": 5,
   "metadata": {},
   "outputs": [
    {
     "data": {
      "text/plain": [
       "<matplotlib.image.AxesImage at 0x269af1640c8>"
      ]
     },
     "execution_count": 5,
     "metadata": {},
     "output_type": "execute_result"
    },
    {
     "data": {
      "image/png": "[encoded data removed]",
      "text/plain": [
       "<Figure size 432x288 with 1 Axes>"
      ]
     },
     "metadata": {
      "needs_background": "light"
     },
     "output_type": "display_data"
    }
   ],
   "source": [
    "plt.imshow(minst.train.images[1000].reshape(28,28))"
   ]
  },
  {
   "cell_type": "code",
   "execution_count": 6,
   "metadata": {},
   "outputs": [],
   "source": [
    "x=tf.placeholder(tf.float32,[None,784])\n",
    "y=tf.placeholder(tf.float32,[None,10])"
   ]
  },
  {
   "cell_type": "code",
   "execution_count": 7,
   "metadata": {},
   "outputs": [],
   "source": [
    "\n",
    "#weights and bias\n",
    "weight1=tf.Variable(tf.truncated_normal([784,200],stddev=0.1))       #(tf.zeros([784,200]))\n",
    "\n",
    "bias1=tf.Variable(tf.truncated_normal([200],stddev=0.1))  #(tf.zeros([200]))\n",
    "#input function\n",
    "#mult=tf.matmul(x,weight)\n",
    "#I=tf.add(mult,bias)\n",
    "I1=tf.add(tf.matmul(x,weight1),bias1)\n",
    "\n",
    "#activation function\n",
    "output1=tf.nn.relu(I1)"
   ]
  },
  {
   "cell_type": "code",
   "execution_count": 8,
   "metadata": {},
   "outputs": [],
   "source": [
    "\n",
    "#weights and bias\n",
    "weight2=tf.Variable(tf.truncated_normal([200,100],stddev=0.1))  #(tf.zeros([200,100]))\n",
    "\n",
    "bias2=tf.Variable(tf.truncated_normal([100],stddev=0.1))  #(tf.zeros([100]))\n",
    "#input function\n",
    "#mult=tf.matmul(x,weight)\n",
    "#I=tf.add(mult,bias)\n",
    "I2=tf.add(tf.matmul(output1,weight2),bias2)\n",
    "\n",
    "#activation function\n",
    "output2=tf.nn.relu(I2)"
   ]
  },
  {
   "cell_type": "code",
   "execution_count": 9,
   "metadata": {},
   "outputs": [],
   "source": [
    "\n",
    "#weights and bias\n",
    "weight3=tf.Variable(tf.truncated_normal([100,60],stddev=0.1))  #(tf.zeros([100,60]))\n",
    "\n",
    "bias3=tf.Variable(tf.truncated_normal([60],stddev=0.1))  #(tf.zeros([60]))\n",
    "#input function\n",
    "#mult=tf.matmul(x,weight)\n",
    "#I=tf.add(mult,bias)\n",
    "I3=tf.add(tf.matmul(output2,weight3),bias3)\n",
    "\n",
    "#activation function\n",
    "output3=tf.nn.relu(I3)"
   ]
  },
  {
   "cell_type": "code",
   "execution_count": 10,
   "metadata": {},
   "outputs": [],
   "source": [
    "\n",
    "#weights and bias\n",
    "weight4=tf.Variable(tf.truncated_normal([60,30],stddev=0.1))  #(tf.zeros([60,30]))\n",
    "\n",
    "bias4=tf.Variable(tf.truncated_normal([30],stddev=0.1))  #(tf.zeros([30]))\n",
    "#input function\n",
    "#mult=tf.matmul(x,weight)\n",
    "#I=tf.add(mult,bias)\n",
    "I4=tf.add(tf.matmul(output3,weight4),bias4)\n",
    "\n",
    "#activation function\n",
    "output4=tf.nn.relu(I4)"
   ]
  },
  {
   "cell_type": "code",
   "execution_count": 11,
   "metadata": {},
   "outputs": [],
   "source": [
    "\n",
    "#weights and bias\n",
    "weight5=tf.Variable(tf.truncated_normal([30,10],stddev=0.1))  #(tf.zeros([30,10]))\n",
    "\n",
    "bias5=tf.Variable(tf.truncated_normal([10],stddev=0.1))  #(tf.zeros([10]))\n",
    "#input function\n",
    "#mult=tf.matmul(x,weight)\n",
    "#I=tf.add(mult,bias)\n",
    "I5=tf.add(tf.matmul(output4,weight5),bias5)\n",
    "\n",
    "#activation function\n",
    "output5=tf.nn.softmax(I5)"
   ]
  },
  {
   "cell_type": "code",
   "execution_count": 12,
   "metadata": {},
   "outputs": [],
   "source": [
    "individual_loss=tf.nn.softmax_cross_entropy_with_logits_v2(labels=y,logits=output5)\n",
    "loss=tf.reduce_mean(individual_loss)\n",
    "\n",
    "gdo=tf.train.GradientDescentOptimizer(learning_rate=0.5)\n",
    "train=gdo.minimize(loss)"
   ]
  },
  {
   "cell_type": "code",
   "execution_count": 13,
   "metadata": {},
   "outputs": [],
   "source": [
    "init=tf.global_variables_initializer()"
   ]
  },
  {
   "cell_type": "code",
   "execution_count": 14,
   "metadata": {},
   "outputs": [
    {
     "data": {
      "text/plain": [
       "array([[-0.07366817, -0.05682602,  0.07162344, ...,  0.04015383,\n",
       "        -0.1381484 , -0.11060146],\n",
       "       [-0.07707365, -0.01219017,  0.18912959, ...,  0.07635931,\n",
       "         0.02582992, -0.07647707],\n",
       "       [ 0.06453153,  0.0560873 , -0.17949395, ..., -0.16634813,\n",
       "        -0.00341526, -0.13310026],\n",
       "       ...,\n",
       "       [ 0.00160834, -0.0437951 , -0.13017559, ..., -0.0429532 ,\n",
       "         0.04262911,  0.10177099],\n",
       "       [ 0.16209815, -0.17145935, -0.04717358, ..., -0.13655636,\n",
       "        -0.05424955,  0.03009821],\n",
       "       [ 0.02383238,  0.00026624, -0.07433498, ..., -0.11555707,\n",
       "         0.02438983,  0.08203433]], dtype=float32)"
      ]
     },
     "execution_count": 14,
     "metadata": {},
     "output_type": "execute_result"
    }
   ],
   "source": [
    "sess=tf.Session()\n",
    "sess.run(init)\n",
    "sess.run(weight1)"
   ]
  },
  {
   "cell_type": "code",
   "execution_count": 15,
   "metadata": {},
   "outputs": [],
   "source": [
    "for i in range(10000):\n",
    "    batch_x , batch_y = minst.train.next_batch(200)\n",
    "    sess.run(train,feed_dict={x:batch_x,y:batch_y})"
   ]
  },
  {
   "cell_type": "code",
   "execution_count": 16,
   "metadata": {},
   "outputs": [],
   "source": [
    "result=(sess.run(output5,feed_dict={x:minst.test.images}))"
   ]
  },
  {
   "cell_type": "code",
   "execution_count": 17,
   "metadata": {},
   "outputs": [],
   "source": [
    "y_pred=result.argmax(axis=1)"
   ]
  },
  {
   "cell_type": "code",
   "execution_count": 18,
   "metadata": {},
   "outputs": [],
   "source": [
    " "
   ]
  },
  {
   "cell_type": "code",
   "execution_count": 19,
   "metadata": {},
   "outputs": [
    {
     "data": {
      "text/plain": [
       "0.9752"
      ]
     },
     "execution_count": 19,
     "metadata": {},
     "output_type": "execute_result"
    }
   ],
   "source": [
    "accuracy_score(Y_label,y_pred)"
   ]
  },
  {
   "cell_type": "code",
   "execution_count": null,
   "metadata": {},
   "outputs": [],
   "source": []
  },
  {
   "cell_type": "code",
   "execution_count": null,
   "metadata": {},
   "outputs": [],
   "source": []
  }
 ],
 "metadata": {
  "kernelspec": {
   "display_name": "Python 3",
   "language": "python",
   "name": "python3"
  },
  "language_info": {
   "codemirror_mode": {
    "name": "ipython",
    "version": 3
   },
   "file_extension": ".py",
   "mimetype": "text/x-python",
   "name": "python",
   "nbconvert_exporter": "python",
   "pygments_lexer": "ipython3",
   "version": "3.7.3"
  }
 },
 "nbformat": 4,
 "nbformat_minor": 4
}
